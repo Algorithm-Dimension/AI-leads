{
 "cells": [
  {
   "cell_type": "code",
   "execution_count": 3,
   "id": "e191c1dc-c504-4ca2-9657-5377ba096e94",
   "metadata": {},
   "outputs": [],
   "source": [
    "from googlesearch import search\n",
    "import googlesearch"
   ]
  },
  {
   "cell_type": "code",
   "execution_count": 5,
   "id": "1a5cfdde-8150-4857-8c15-671f02aae62b",
   "metadata": {},
   "outputs": [
    {
     "name": "stdout",
     "output_type": "stream",
     "text": [
      "Help on function search in module googlesearch:\n",
      "\n",
      "search(term, num_results=10, lang='en', proxy=None, advanced=False, sleep_interval=0, timeout=5)\n",
      "    Search the Google search engine\n",
      "\n"
     ]
    }
   ],
   "source": [
    "help(search)"
   ]
  },
  {
   "cell_type": "code",
   "execution_count": null,
   "id": "68e8529d-2ff3-430b-ab74-13f67b9f6b38",
   "metadata": {},
   "outputs": [],
   "source": []
  }
 ],
 "metadata": {
  "kernelspec": {
   "display_name": "ai-leads-dev",
   "language": "python",
   "name": "ai-leads-dev"
  },
  "language_info": {
   "codemirror_mode": {
    "name": "ipython",
    "version": 3
   },
   "file_extension": ".py",
   "mimetype": "text/x-python",
   "name": "python",
   "nbconvert_exporter": "python",
   "pygments_lexer": "ipython3",
   "version": "3.11.3"
  }
 },
 "nbformat": 4,
 "nbformat_minor": 5
}
