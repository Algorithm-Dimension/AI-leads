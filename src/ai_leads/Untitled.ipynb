{
 "cells": [
  {
   "cell_type": "code",
   "execution_count": 1,
   "id": "e191c1dc-c504-4ca2-9657-5377ba096e94",
   "metadata": {},
   "outputs": [],
   "source": [
    "import pandas as pd"
   ]
  },
  {
   "cell_type": "code",
   "execution_count": 2,
   "id": "1a5cfdde-8150-4857-8c15-671f02aae62b",
   "metadata": {},
   "outputs": [],
   "source": [
    "import os"
   ]
  },
  {
   "cell_type": "code",
   "execution_count": 3,
   "id": "68e8529d-2ff3-430b-ab74-13f67b9f6b38",
   "metadata": {},
   "outputs": [],
   "source": [
    "DATA_PATH = \"../../data\"\n",
    "df_jobs = pd.read_csv(os.path.join(DATA_PATH, \"jobs_tests.csv\"), sep=\";\", index_col=0)[\n",
    "    [\"job name\", \"company\", \"location\", \"offer date\", \"contact\", \"position\", \"source\", \"url\"]\n",
    "]\n",
    "df_leads = pd.read_csv(os.path.join(DATA_PATH, \"leads_tests.csv\"))"
   ]
  },
  {
   "cell_type": "code",
   "execution_count": 77,
   "id": "b2dbe6d4-30be-4316-b794-26c8ef15f3ad",
   "metadata": {},
   "outputs": [],
   "source": [
    "df_leads['company_id'] = pd.factorize(df_leads['Entreprise'])[0]"
   ]
  },
  {
   "cell_type": "code",
   "execution_count": 78,
   "id": "e0cf1b2d-cfcf-41ea-8be8-03136634a0f3",
   "metadata": {},
   "outputs": [
    {
     "data": {
      "text/html": [
       "<div>\n",
       "<style scoped>\n",
       "    .dataframe tbody tr th:only-of-type {\n",
       "        vertical-align: middle;\n",
       "    }\n",
       "\n",
       "    .dataframe tbody tr th {\n",
       "        vertical-align: top;\n",
       "    }\n",
       "\n",
       "    .dataframe thead th {\n",
       "        text-align: right;\n",
       "    }\n",
       "</style>\n",
       "<table border=\"1\" class=\"dataframe\">\n",
       "  <thead>\n",
       "    <tr style=\"text-align: right;\">\n",
       "      <th></th>\n",
       "      <th>job name</th>\n",
       "      <th>company</th>\n",
       "      <th>location</th>\n",
       "      <th>offer date</th>\n",
       "      <th>contact</th>\n",
       "      <th>position</th>\n",
       "      <th>source</th>\n",
       "      <th>url</th>\n",
       "    </tr>\n",
       "  </thead>\n",
       "  <tbody>\n",
       "    <tr>\n",
       "      <th>0</th>\n",
       "      <td>Acheteur/Acheteuse en Industrie H/F</td>\n",
       "      <td>AKKODIS</td>\n",
       "      <td>Belfort</td>\n",
       "      <td>N.A.</td>\n",
       "      <td>N.A.</td>\n",
       "      <td>Acheteur</td>\n",
       "      <td>Cadre Emploi</td>\n",
       "      <td>https://www.cadremploi.fr/emploi/liste_offres?...</td>\n",
       "    </tr>\n",
       "    <tr>\n",
       "      <th>1</th>\n",
       "      <td>Stage - Acheteur / Acheteuse IT H/F</td>\n",
       "      <td>CMA CGM</td>\n",
       "      <td>Marseille</td>\n",
       "      <td>N.A.</td>\n",
       "      <td>N.A.</td>\n",
       "      <td>Acheteur</td>\n",
       "      <td>Cadre Emploi</td>\n",
       "      <td>https://www.cadremploi.fr/emploi/liste_offres?...</td>\n",
       "    </tr>\n",
       "    <tr>\n",
       "      <th>2</th>\n",
       "      <td>Acheteur Acheteur Industriel H/FH/F</td>\n",
       "      <td>ALDES</td>\n",
       "      <td>Vénissieux</td>\n",
       "      <td>N.A.</td>\n",
       "      <td>N.A.</td>\n",
       "      <td>Acheteur</td>\n",
       "      <td>Cadre Emploi</td>\n",
       "      <td>https://www.cadremploi.fr/emploi/liste_offres?...</td>\n",
       "    </tr>\n",
       "    <tr>\n",
       "      <th>3</th>\n",
       "      <td>Stage - Acheteur/ Acheteuse Feedering H/F</td>\n",
       "      <td>CMA CGM</td>\n",
       "      <td>Marseille</td>\n",
       "      <td>N.A.</td>\n",
       "      <td>N.A.</td>\n",
       "      <td>Acheteur</td>\n",
       "      <td>Cadre Emploi</td>\n",
       "      <td>https://www.cadremploi.fr/emploi/liste_offres?...</td>\n",
       "    </tr>\n",
       "    <tr>\n",
       "      <th>4</th>\n",
       "      <td>Acheteur Acheteur Industriel H/FH/F</td>\n",
       "      <td>ALDES</td>\n",
       "      <td>Vénissieux</td>\n",
       "      <td>N.A.</td>\n",
       "      <td>N.A.</td>\n",
       "      <td>Acheteur</td>\n",
       "      <td>Cadre Emploi</td>\n",
       "      <td>https://www.cadremploi.fr/emploi/liste_offres?...</td>\n",
       "    </tr>\n",
       "    <tr>\n",
       "      <th>...</th>\n",
       "      <td>...</td>\n",
       "      <td>...</td>\n",
       "      <td>...</td>\n",
       "      <td>...</td>\n",
       "      <td>...</td>\n",
       "      <td>...</td>\n",
       "      <td>...</td>\n",
       "      <td>...</td>\n",
       "    </tr>\n",
       "    <tr>\n",
       "      <th>10</th>\n",
       "      <td>Office Manager H/F</td>\n",
       "      <td>PGWO</td>\n",
       "      <td>Paris 1er (75)</td>\n",
       "      <td>il y a 18 jours</td>\n",
       "      <td>N.A.</td>\n",
       "      <td>Office Manager</td>\n",
       "      <td>Indeed</td>\n",
       "      <td>https://fr.indeed.com/jobs?q=Office Manager&amp;l=...</td>\n",
       "    </tr>\n",
       "    <tr>\n",
       "      <th>11</th>\n",
       "      <td>Office Manager H/F</td>\n",
       "      <td>SantéCité</td>\n",
       "      <td>Paris 9e (75)</td>\n",
       "      <td>il y a 3 jours</td>\n",
       "      <td>N.A.</td>\n",
       "      <td>Office Manager</td>\n",
       "      <td>Indeed</td>\n",
       "      <td>https://fr.indeed.com/jobs?q=Office Manager&amp;l=...</td>\n",
       "    </tr>\n",
       "    <tr>\n",
       "      <th>12</th>\n",
       "      <td>Office Manager H/F</td>\n",
       "      <td>Page Personnel</td>\n",
       "      <td>Paris (75)</td>\n",
       "      <td>il y a 4 jours</td>\n",
       "      <td>N.A.</td>\n",
       "      <td>Office Manager</td>\n",
       "      <td>Indeed</td>\n",
       "      <td>https://fr.indeed.com/jobs?q=Office Manager&amp;l=...</td>\n",
       "    </tr>\n",
       "    <tr>\n",
       "      <th>13</th>\n",
       "      <td>Office Manager</td>\n",
       "      <td>CSM</td>\n",
       "      <td>Paris (75)</td>\n",
       "      <td>il y a 25 jours</td>\n",
       "      <td>N.A.</td>\n",
       "      <td>Office Manager</td>\n",
       "      <td>Indeed</td>\n",
       "      <td>https://fr.indeed.com/jobs?q=Office Manager&amp;l=...</td>\n",
       "    </tr>\n",
       "    <tr>\n",
       "      <th>14</th>\n",
       "      <td>EA and Office Manager</td>\n",
       "      <td>Joss Search</td>\n",
       "      <td>Paris (75)</td>\n",
       "      <td>il y a 12 jours</td>\n",
       "      <td>N.A.</td>\n",
       "      <td>Office Manager</td>\n",
       "      <td>Indeed</td>\n",
       "      <td>https://fr.indeed.com/jobs?q=Office Manager&amp;l=...</td>\n",
       "    </tr>\n",
       "  </tbody>\n",
       "</table>\n",
       "<p>7170 rows × 8 columns</p>\n",
       "</div>"
      ],
      "text/plain": [
       "                                     job name         company        location  \\\n",
       "0         Acheteur/Acheteuse en Industrie H/F         AKKODIS         Belfort   \n",
       "1         Stage - Acheteur / Acheteuse IT H/F         CMA CGM       Marseille   \n",
       "2         Acheteur Acheteur Industriel H/FH/F           ALDES      Vénissieux   \n",
       "3   Stage - Acheteur/ Acheteuse Feedering H/F         CMA CGM       Marseille   \n",
       "4         Acheteur Acheteur Industriel H/FH/F           ALDES      Vénissieux   \n",
       "..                                        ...             ...             ...   \n",
       "10                         Office Manager H/F            PGWO  Paris 1er (75)   \n",
       "11                         Office Manager H/F       SantéCité   Paris 9e (75)   \n",
       "12                         Office Manager H/F  Page Personnel      Paris (75)   \n",
       "13                             Office Manager             CSM      Paris (75)   \n",
       "14                      EA and Office Manager     Joss Search      Paris (75)   \n",
       "\n",
       "         offer date contact        position        source  \\\n",
       "0              N.A.    N.A.        Acheteur  Cadre Emploi   \n",
       "1              N.A.    N.A.        Acheteur  Cadre Emploi   \n",
       "2              N.A.    N.A.        Acheteur  Cadre Emploi   \n",
       "3              N.A.    N.A.        Acheteur  Cadre Emploi   \n",
       "4              N.A.    N.A.        Acheteur  Cadre Emploi   \n",
       "..              ...     ...             ...           ...   \n",
       "10  il y a 18 jours    N.A.  Office Manager        Indeed   \n",
       "11   il y a 3 jours    N.A.  Office Manager        Indeed   \n",
       "12   il y a 4 jours    N.A.  Office Manager        Indeed   \n",
       "13  il y a 25 jours    N.A.  Office Manager        Indeed   \n",
       "14  il y a 12 jours    N.A.  Office Manager        Indeed   \n",
       "\n",
       "                                                  url  \n",
       "0   https://www.cadremploi.fr/emploi/liste_offres?...  \n",
       "1   https://www.cadremploi.fr/emploi/liste_offres?...  \n",
       "2   https://www.cadremploi.fr/emploi/liste_offres?...  \n",
       "3   https://www.cadremploi.fr/emploi/liste_offres?...  \n",
       "4   https://www.cadremploi.fr/emploi/liste_offres?...  \n",
       "..                                                ...  \n",
       "10  https://fr.indeed.com/jobs?q=Office Manager&l=...  \n",
       "11  https://fr.indeed.com/jobs?q=Office Manager&l=...  \n",
       "12  https://fr.indeed.com/jobs?q=Office Manager&l=...  \n",
       "13  https://fr.indeed.com/jobs?q=Office Manager&l=...  \n",
       "14  https://fr.indeed.com/jobs?q=Office Manager&l=...  \n",
       "\n",
       "[7170 rows x 8 columns]"
      ]
     },
     "execution_count": 78,
     "metadata": {},
     "output_type": "execute_result"
    }
   ],
   "source": [
    "df_jobs"
   ]
  },
  {
   "cell_type": "code",
   "execution_count": 79,
   "id": "3562738b-1227-4a4c-8608-01a1dfa5f540",
   "metadata": {},
   "outputs": [],
   "source": [
    "df = df_leads[[\"company_id\",\"Entreprise\"]].rename(columns = {\"Entreprise\": \"company\"})"
   ]
  },
  {
   "cell_type": "code",
   "execution_count": 81,
   "id": "e36159f7-9435-4c52-9a13-425dde76e261",
   "metadata": {},
   "outputs": [
    {
     "data": {
      "text/html": [
       "<div>\n",
       "<style scoped>\n",
       "    .dataframe tbody tr th:only-of-type {\n",
       "        vertical-align: middle;\n",
       "    }\n",
       "\n",
       "    .dataframe tbody tr th {\n",
       "        vertical-align: top;\n",
       "    }\n",
       "\n",
       "    .dataframe thead th {\n",
       "        text-align: right;\n",
       "    }\n",
       "</style>\n",
       "<table border=\"1\" class=\"dataframe\">\n",
       "  <thead>\n",
       "    <tr style=\"text-align: right;\">\n",
       "      <th></th>\n",
       "      <th>company_id</th>\n",
       "      <th>company</th>\n",
       "    </tr>\n",
       "  </thead>\n",
       "  <tbody>\n",
       "    <tr>\n",
       "      <th>0</th>\n",
       "      <td>0</td>\n",
       "      <td>n.a.</td>\n",
       "    </tr>\n",
       "    <tr>\n",
       "      <th>1</th>\n",
       "      <td>1</td>\n",
       "      <td>armée de l'air et de l'espace</td>\n",
       "    </tr>\n",
       "    <tr>\n",
       "      <th>2</th>\n",
       "      <td>2</td>\n",
       "      <td>iscod</td>\n",
       "    </tr>\n",
       "    <tr>\n",
       "      <th>3</th>\n",
       "      <td>3</td>\n",
       "      <td>lhh recruitment solutions</td>\n",
       "    </tr>\n",
       "    <tr>\n",
       "      <th>4</th>\n",
       "      <td>4</td>\n",
       "      <td>page personnel</td>\n",
       "    </tr>\n",
       "    <tr>\n",
       "      <th>...</th>\n",
       "      <td>...</td>\n",
       "      <td>...</td>\n",
       "    </tr>\n",
       "    <tr>\n",
       "      <th>1131</th>\n",
       "      <td>1131</td>\n",
       "      <td>groupama - g2s</td>\n",
       "    </tr>\n",
       "    <tr>\n",
       "      <th>1132</th>\n",
       "      <td>1132</td>\n",
       "      <td>groupama supports et services</td>\n",
       "    </tr>\n",
       "    <tr>\n",
       "      <th>1133</th>\n",
       "      <td>1133</td>\n",
       "      <td>groupapharm</td>\n",
       "    </tr>\n",
       "    <tr>\n",
       "      <th>1134</th>\n",
       "      <td>1134</td>\n",
       "      <td>groupe advenis</td>\n",
       "    </tr>\n",
       "    <tr>\n",
       "      <th>1135</th>\n",
       "      <td>1135</td>\n",
       "      <td>élivie</td>\n",
       "    </tr>\n",
       "  </tbody>\n",
       "</table>\n",
       "<p>1136 rows × 2 columns</p>\n",
       "</div>"
      ],
      "text/plain": [
       "      company_id                        company\n",
       "0              0                           n.a.\n",
       "1              1  armée de l'air et de l'espace\n",
       "2              2                          iscod\n",
       "3              3      lhh recruitment solutions\n",
       "4              4                 page personnel\n",
       "...          ...                            ...\n",
       "1131        1131                 groupama - g2s\n",
       "1132        1132  groupama supports et services\n",
       "1133        1133                    groupapharm\n",
       "1134        1134                 groupe advenis\n",
       "1135        1135                         élivie\n",
       "\n",
       "[1136 rows x 2 columns]"
      ]
     },
     "execution_count": 81,
     "metadata": {},
     "output_type": "execute_result"
    }
   ],
   "source": [
    "df"
   ]
  },
  {
   "cell_type": "code",
   "execution_count": 82,
   "id": "09a5af07-fbb1-4f94-8ffd-a27058f582d0",
   "metadata": {},
   "outputs": [],
   "source": [
    "df_jobs[\"company\"] = df_jobs[\"company\"].apply(lambda x: x.lower() if type(x) is str else x)"
   ]
  },
  {
   "cell_type": "code",
   "execution_count": 83,
   "id": "8ec0fc68-b868-484d-9130-d418ff4f4140",
   "metadata": {},
   "outputs": [],
   "source": [
    "df_jobs = pd.merge(df_jobs,df, on =\"company\")"
   ]
  },
  {
   "cell_type": "code",
   "execution_count": 41,
   "id": "5ac5c3e4-8ffb-4436-bcd4-baddda1cfc3c",
   "metadata": {},
   "outputs": [
    {
     "data": {
      "text/html": [
       "<div>\n",
       "<style scoped>\n",
       "    .dataframe tbody tr th:only-of-type {\n",
       "        vertical-align: middle;\n",
       "    }\n",
       "\n",
       "    .dataframe tbody tr th {\n",
       "        vertical-align: top;\n",
       "    }\n",
       "\n",
       "    .dataframe thead th {\n",
       "        text-align: right;\n",
       "    }\n",
       "</style>\n",
       "<table border=\"1\" class=\"dataframe\">\n",
       "  <thead>\n",
       "    <tr style=\"text-align: right;\">\n",
       "      <th></th>\n",
       "      <th>company_id</th>\n",
       "      <th>company</th>\n",
       "    </tr>\n",
       "  </thead>\n",
       "  <tbody>\n",
       "    <tr>\n",
       "      <th>0</th>\n",
       "      <td>0</td>\n",
       "      <td>n.a.</td>\n",
       "    </tr>\n",
       "    <tr>\n",
       "      <th>1</th>\n",
       "      <td>1</td>\n",
       "      <td>armée de l'air et de l'espace</td>\n",
       "    </tr>\n",
       "    <tr>\n",
       "      <th>2</th>\n",
       "      <td>2</td>\n",
       "      <td>iscod</td>\n",
       "    </tr>\n",
       "    <tr>\n",
       "      <th>3</th>\n",
       "      <td>3</td>\n",
       "      <td>lhh recruitment solutions</td>\n",
       "    </tr>\n",
       "    <tr>\n",
       "      <th>4</th>\n",
       "      <td>4</td>\n",
       "      <td>page personnel</td>\n",
       "    </tr>\n",
       "    <tr>\n",
       "      <th>...</th>\n",
       "      <td>...</td>\n",
       "      <td>...</td>\n",
       "    </tr>\n",
       "    <tr>\n",
       "      <th>1131</th>\n",
       "      <td>1131</td>\n",
       "      <td>groupama - g2s</td>\n",
       "    </tr>\n",
       "    <tr>\n",
       "      <th>1132</th>\n",
       "      <td>1132</td>\n",
       "      <td>groupama supports et services</td>\n",
       "    </tr>\n",
       "    <tr>\n",
       "      <th>1133</th>\n",
       "      <td>1133</td>\n",
       "      <td>groupapharm</td>\n",
       "    </tr>\n",
       "    <tr>\n",
       "      <th>1134</th>\n",
       "      <td>1134</td>\n",
       "      <td>groupe advenis</td>\n",
       "    </tr>\n",
       "    <tr>\n",
       "      <th>1135</th>\n",
       "      <td>1135</td>\n",
       "      <td>élivie</td>\n",
       "    </tr>\n",
       "  </tbody>\n",
       "</table>\n",
       "<p>1136 rows × 2 columns</p>\n",
       "</div>"
      ],
      "text/plain": [
       "      company_id                        company\n",
       "0              0                           n.a.\n",
       "1              1  armée de l'air et de l'espace\n",
       "2              2                          iscod\n",
       "3              3      lhh recruitment solutions\n",
       "4              4                 page personnel\n",
       "...          ...                            ...\n",
       "1131        1131                 groupama - g2s\n",
       "1132        1132  groupama supports et services\n",
       "1133        1133                    groupapharm\n",
       "1134        1134                 groupe advenis\n",
       "1135        1135                         élivie\n",
       "\n",
       "[1136 rows x 2 columns]"
      ]
     },
     "execution_count": 41,
     "metadata": {},
     "output_type": "execute_result"
    }
   ],
   "source": [
    "df_leads[[\"company_id\",\"Entreprise\"]].rename(columns = {\"Entreprise\": \"company\"})"
   ]
  },
  {
   "cell_type": "code",
   "execution_count": 85,
   "id": "f89a818b-fb94-493e-8934-6331dc326dab",
   "metadata": {},
   "outputs": [],
   "source": [
    "df_jobs.to_csv(os.path.join(DATA_PATH, \"jobs_tests.csv\"), sep = \";\", index = False)"
   ]
  },
  {
   "cell_type": "code",
   "execution_count": 86,
   "id": "242facee-f4d5-49d8-bcd4-58b5ae792279",
   "metadata": {},
   "outputs": [],
   "source": [
    "df_leads.to_csv(os.path.join(DATA_PATH, \"leads_tests.csv\"), sep = \",\", index = False)"
   ]
  },
  {
   "cell_type": "code",
   "execution_count": 87,
   "id": "8fa21787-a38f-42c1-8806-ab03e6d8c3e3",
   "metadata": {},
   "outputs": [
    {
     "data": {
      "text/html": [
       "<div>\n",
       "<style scoped>\n",
       "    .dataframe tbody tr th:only-of-type {\n",
       "        vertical-align: middle;\n",
       "    }\n",
       "\n",
       "    .dataframe tbody tr th {\n",
       "        vertical-align: top;\n",
       "    }\n",
       "\n",
       "    .dataframe thead th {\n",
       "        text-align: right;\n",
       "    }\n",
       "</style>\n",
       "<table border=\"1\" class=\"dataframe\">\n",
       "  <thead>\n",
       "    <tr style=\"text-align: right;\">\n",
       "      <th></th>\n",
       "      <th>job name</th>\n",
       "      <th>company</th>\n",
       "      <th>location</th>\n",
       "      <th>offer date</th>\n",
       "      <th>contact</th>\n",
       "      <th>position</th>\n",
       "      <th>source</th>\n",
       "      <th>url</th>\n",
       "      <th>company_id</th>\n",
       "    </tr>\n",
       "  </thead>\n",
       "  <tbody>\n",
       "    <tr>\n",
       "      <th>0</th>\n",
       "      <td>Acheteur H/F</td>\n",
       "      <td>groupe roullier - cfpr</td>\n",
       "      <td>Loudéac</td>\n",
       "      <td>Dernier jour</td>\n",
       "      <td>N.A.</td>\n",
       "      <td>Acheteur</td>\n",
       "      <td>Cadre Emploi</td>\n",
       "      <td>https://www.cadremploi.fr/emploi/liste_offres?...</td>\n",
       "      <td>107</td>\n",
       "    </tr>\n",
       "    <tr>\n",
       "      <th>1</th>\n",
       "      <td>Gestionnaire Risk Management et Assurances Gro...</td>\n",
       "      <td>groupe roullier - cfpr</td>\n",
       "      <td>Saint-Malo</td>\n",
       "      <td>Temporary</td>\n",
       "      <td>N.A.</td>\n",
       "      <td>Gestionnaire back office</td>\n",
       "      <td>Cadre Emploi</td>\n",
       "      <td>https://www.cadremploi.fr/emploi/liste_offres?...</td>\n",
       "      <td>107</td>\n",
       "    </tr>\n",
       "    <tr>\n",
       "      <th>2</th>\n",
       "      <td>Assistant de Direction H/F</td>\n",
       "      <td>groupe roullier - cfpr</td>\n",
       "      <td>Saint-Malo</td>\n",
       "      <td>il y a 1 semaine</td>\n",
       "      <td>N.A.</td>\n",
       "      <td>Assistant RH</td>\n",
       "      <td>Cadre Emploi</td>\n",
       "      <td>https://www.cadremploi.fr/emploi/liste_offres?...</td>\n",
       "      <td>107</td>\n",
       "    </tr>\n",
       "    <tr>\n",
       "      <th>3</th>\n",
       "      <td>Acheteur (h/f)</td>\n",
       "      <td>lhh recruitment solutions</td>\n",
       "      <td>Villeurbanne</td>\n",
       "      <td>Dernier jour</td>\n",
       "      <td>N.A.</td>\n",
       "      <td>Acheteur</td>\n",
       "      <td>Cadre Emploi</td>\n",
       "      <td>https://www.cadremploi.fr/emploi/liste_offres?...</td>\n",
       "      <td>3</td>\n",
       "    </tr>\n",
       "    <tr>\n",
       "      <th>4</th>\n",
       "      <td>Acheteur (h/f)</td>\n",
       "      <td>lhh recruitment solutions</td>\n",
       "      <td>Vénissieux</td>\n",
       "      <td>N.A.</td>\n",
       "      <td>N.A.</td>\n",
       "      <td>Acheteur</td>\n",
       "      <td>Cadre Emploi</td>\n",
       "      <td>https://www.cadremploi.fr/emploi/liste_offres?...</td>\n",
       "      <td>3</td>\n",
       "    </tr>\n",
       "    <tr>\n",
       "      <th>...</th>\n",
       "      <td>...</td>\n",
       "      <td>...</td>\n",
       "      <td>...</td>\n",
       "      <td>...</td>\n",
       "      <td>...</td>\n",
       "      <td>...</td>\n",
       "      <td>...</td>\n",
       "      <td>...</td>\n",
       "      <td>...</td>\n",
       "    </tr>\n",
       "    <tr>\n",
       "      <th>4703</th>\n",
       "      <td>Project Management Office Manager F/H</td>\n",
       "      <td>thales</td>\n",
       "      <td>Issy-les-Moulineaux (92)</td>\n",
       "      <td>il y a 2 jours</td>\n",
       "      <td>N.A.</td>\n",
       "      <td>Office Manager</td>\n",
       "      <td>Indeed</td>\n",
       "      <td>https://fr.indeed.com/jobs?q=Office Manager&amp;l=...</td>\n",
       "      <td>554</td>\n",
       "    </tr>\n",
       "    <tr>\n",
       "      <th>4704</th>\n",
       "      <td>Office Manager &amp; RH - Stage</td>\n",
       "      <td>yespark</td>\n",
       "      <td>Paris 11e</td>\n",
       "      <td>il y a 3 jours</td>\n",
       "      <td>N.A.</td>\n",
       "      <td>Office Manager</td>\n",
       "      <td>Indeed</td>\n",
       "      <td>https://fr.indeed.com/jobs?q=Office Manager&amp;l=...</td>\n",
       "      <td>427</td>\n",
       "    </tr>\n",
       "    <tr>\n",
       "      <th>4705</th>\n",
       "      <td>Office Manager H/F</td>\n",
       "      <td>axelys santé</td>\n",
       "      <td>Malakoff (92)</td>\n",
       "      <td>il y a 3 jours</td>\n",
       "      <td>N.A.</td>\n",
       "      <td>Office Manager</td>\n",
       "      <td>Indeed</td>\n",
       "      <td>https://fr.indeed.com/jobs?q=Office Manager&amp;l=...</td>\n",
       "      <td>861</td>\n",
       "    </tr>\n",
       "    <tr>\n",
       "      <th>4706</th>\n",
       "      <td>Gestionnaire administratif adidas (H/F/D) - 35...</td>\n",
       "      <td>adidas</td>\n",
       "      <td>Paris (75)</td>\n",
       "      <td>il y a 3 jours</td>\n",
       "      <td>N.A.</td>\n",
       "      <td>Office Manager</td>\n",
       "      <td>Indeed</td>\n",
       "      <td>https://fr.indeed.com/jobs?q=Office Manager&amp;l=...</td>\n",
       "      <td>853</td>\n",
       "    </tr>\n",
       "    <tr>\n",
       "      <th>4707</th>\n",
       "      <td>Office Manager H/F</td>\n",
       "      <td>santécité</td>\n",
       "      <td>Paris 9e (75)</td>\n",
       "      <td>il y a 3 jours</td>\n",
       "      <td>N.A.</td>\n",
       "      <td>Office Manager</td>\n",
       "      <td>Indeed</td>\n",
       "      <td>https://fr.indeed.com/jobs?q=Office Manager&amp;l=...</td>\n",
       "      <td>524</td>\n",
       "    </tr>\n",
       "  </tbody>\n",
       "</table>\n",
       "<p>4708 rows × 9 columns</p>\n",
       "</div>"
      ],
      "text/plain": [
       "                                               job name  \\\n",
       "0                                          Acheteur H/F   \n",
       "1     Gestionnaire Risk Management et Assurances Gro...   \n",
       "2                            Assistant de Direction H/F   \n",
       "3                                        Acheteur (h/f)   \n",
       "4                                        Acheteur (h/f)   \n",
       "...                                                 ...   \n",
       "4703              Project Management Office Manager F/H   \n",
       "4704                        Office Manager & RH - Stage   \n",
       "4705                                 Office Manager H/F   \n",
       "4706  Gestionnaire administratif adidas (H/F/D) - 35...   \n",
       "4707                                 Office Manager H/F   \n",
       "\n",
       "                        company                  location        offer date  \\\n",
       "0        groupe roullier - cfpr                   Loudéac      Dernier jour   \n",
       "1        groupe roullier - cfpr                Saint-Malo         Temporary   \n",
       "2        groupe roullier - cfpr                Saint-Malo  il y a 1 semaine   \n",
       "3     lhh recruitment solutions              Villeurbanne      Dernier jour   \n",
       "4     lhh recruitment solutions                Vénissieux              N.A.   \n",
       "...                         ...                       ...               ...   \n",
       "4703                     thales  Issy-les-Moulineaux (92)    il y a 2 jours   \n",
       "4704                    yespark                 Paris 11e    il y a 3 jours   \n",
       "4705               axelys santé             Malakoff (92)    il y a 3 jours   \n",
       "4706                     adidas                Paris (75)    il y a 3 jours   \n",
       "4707                  santécité             Paris 9e (75)    il y a 3 jours   \n",
       "\n",
       "     contact                  position        source  \\\n",
       "0       N.A.                  Acheteur  Cadre Emploi   \n",
       "1       N.A.  Gestionnaire back office  Cadre Emploi   \n",
       "2       N.A.              Assistant RH  Cadre Emploi   \n",
       "3       N.A.                  Acheteur  Cadre Emploi   \n",
       "4       N.A.                  Acheteur  Cadre Emploi   \n",
       "...      ...                       ...           ...   \n",
       "4703    N.A.            Office Manager        Indeed   \n",
       "4704    N.A.            Office Manager        Indeed   \n",
       "4705    N.A.            Office Manager        Indeed   \n",
       "4706    N.A.            Office Manager        Indeed   \n",
       "4707    N.A.            Office Manager        Indeed   \n",
       "\n",
       "                                                    url  company_id  \n",
       "0     https://www.cadremploi.fr/emploi/liste_offres?...         107  \n",
       "1     https://www.cadremploi.fr/emploi/liste_offres?...         107  \n",
       "2     https://www.cadremploi.fr/emploi/liste_offres?...         107  \n",
       "3     https://www.cadremploi.fr/emploi/liste_offres?...           3  \n",
       "4     https://www.cadremploi.fr/emploi/liste_offres?...           3  \n",
       "...                                                 ...         ...  \n",
       "4703  https://fr.indeed.com/jobs?q=Office Manager&l=...         554  \n",
       "4704  https://fr.indeed.com/jobs?q=Office Manager&l=...         427  \n",
       "4705  https://fr.indeed.com/jobs?q=Office Manager&l=...         861  \n",
       "4706  https://fr.indeed.com/jobs?q=Office Manager&l=...         853  \n",
       "4707  https://fr.indeed.com/jobs?q=Office Manager&l=...         524  \n",
       "\n",
       "[4708 rows x 9 columns]"
      ]
     },
     "execution_count": 87,
     "metadata": {},
     "output_type": "execute_result"
    }
   ],
   "source": [
    "df_jobs"
   ]
  },
  {
   "cell_type": "code",
   "execution_count": 4,
   "id": "2c579c7b-47d2-4430-bccf-6dfcd2afba54",
   "metadata": {},
   "outputs": [],
   "source": [
    "DATA_PATH = \"../../data\"\n",
    "df_jobs = pd.read_csv(os.path.join(DATA_PATH, \"jobs_tests.csv\"), sep=\";\", index_col=0)"
   ]
  },
  {
   "cell_type": "code",
   "execution_count": 19,
   "id": "b1c8719d-bca0-4c3c-9b30-10134fb72533",
   "metadata": {},
   "outputs": [],
   "source": [
    "df = df_jobs.groupby([\"company_id\",\"company\", \"source\"]).size().reset_index(name='count')\n",
    "max_count_idx = df.groupby([\"company_id\",\"company\"])['count'].idxmax()\n",
    "\n",
    "# Sélectionnez les lignes correspondantes dans le DataFrame d'origine\n",
    "result_df = df.loc[max_count_idx, ['company_id', 'company', 'source', 'count']]"
   ]
  },
  {
   "cell_type": "code",
   "execution_count": 20,
   "id": "053485d6-9618-4254-870d-72b0f5e44138",
   "metadata": {},
   "outputs": [
    {
     "data": {
      "text/html": [
       "<div>\n",
       "<style scoped>\n",
       "    .dataframe tbody tr th:only-of-type {\n",
       "        vertical-align: middle;\n",
       "    }\n",
       "\n",
       "    .dataframe tbody tr th {\n",
       "        vertical-align: top;\n",
       "    }\n",
       "\n",
       "    .dataframe thead th {\n",
       "        text-align: right;\n",
       "    }\n",
       "</style>\n",
       "<table border=\"1\" class=\"dataframe\">\n",
       "  <thead>\n",
       "    <tr style=\"text-align: right;\">\n",
       "      <th></th>\n",
       "      <th>company_id</th>\n",
       "      <th>company</th>\n",
       "      <th>source</th>\n",
       "      <th>count</th>\n",
       "    </tr>\n",
       "  </thead>\n",
       "  <tbody>\n",
       "    <tr>\n",
       "      <th>2</th>\n",
       "      <td>0</td>\n",
       "      <td>n.a.</td>\n",
       "      <td>Indeed</td>\n",
       "      <td>1733</td>\n",
       "    </tr>\n",
       "    <tr>\n",
       "      <th>3</th>\n",
       "      <td>1</td>\n",
       "      <td>armée de l'air et de l'espace</td>\n",
       "      <td>Cadre Emploi</td>\n",
       "      <td>121</td>\n",
       "    </tr>\n",
       "    <tr>\n",
       "      <th>5</th>\n",
       "      <td>2</td>\n",
       "      <td>iscod</td>\n",
       "      <td>Cadre Emploi</td>\n",
       "      <td>157</td>\n",
       "    </tr>\n",
       "    <tr>\n",
       "      <th>8</th>\n",
       "      <td>3</td>\n",
       "      <td>lhh recruitment solutions</td>\n",
       "      <td>Cadre Emploi</td>\n",
       "      <td>115</td>\n",
       "    </tr>\n",
       "    <tr>\n",
       "      <th>10</th>\n",
       "      <td>4</td>\n",
       "      <td>page personnel</td>\n",
       "      <td>Cadre Emploi</td>\n",
       "      <td>49</td>\n",
       "    </tr>\n",
       "    <tr>\n",
       "      <th>...</th>\n",
       "      <td>...</td>\n",
       "      <td>...</td>\n",
       "      <td>...</td>\n",
       "      <td>...</td>\n",
       "    </tr>\n",
       "    <tr>\n",
       "      <th>1064</th>\n",
       "      <td>1130</td>\n",
       "      <td>green energy service</td>\n",
       "      <td>Indeed</td>\n",
       "      <td>1</td>\n",
       "    </tr>\n",
       "    <tr>\n",
       "      <th>1065</th>\n",
       "      <td>1132</td>\n",
       "      <td>groupama supports et services</td>\n",
       "      <td>Indeed</td>\n",
       "      <td>1</td>\n",
       "    </tr>\n",
       "    <tr>\n",
       "      <th>1066</th>\n",
       "      <td>1133</td>\n",
       "      <td>groupapharm</td>\n",
       "      <td>Indeed</td>\n",
       "      <td>1</td>\n",
       "    </tr>\n",
       "    <tr>\n",
       "      <th>1067</th>\n",
       "      <td>1134</td>\n",
       "      <td>groupe advenis</td>\n",
       "      <td>Hello Work</td>\n",
       "      <td>1</td>\n",
       "    </tr>\n",
       "    <tr>\n",
       "      <th>1068</th>\n",
       "      <td>1135</td>\n",
       "      <td>élivie</td>\n",
       "      <td>Indeed</td>\n",
       "      <td>1</td>\n",
       "    </tr>\n",
       "  </tbody>\n",
       "</table>\n",
       "<p>956 rows × 4 columns</p>\n",
       "</div>"
      ],
      "text/plain": [
       "      company_id                        company        source  count\n",
       "2              0                           n.a.        Indeed   1733\n",
       "3              1  armée de l'air et de l'espace  Cadre Emploi    121\n",
       "5              2                          iscod  Cadre Emploi    157\n",
       "8              3      lhh recruitment solutions  Cadre Emploi    115\n",
       "10             4                 page personnel  Cadre Emploi     49\n",
       "...          ...                            ...           ...    ...\n",
       "1064        1130           green energy service        Indeed      1\n",
       "1065        1132  groupama supports et services        Indeed      1\n",
       "1066        1133                    groupapharm        Indeed      1\n",
       "1067        1134                 groupe advenis    Hello Work      1\n",
       "1068        1135                         élivie        Indeed      1\n",
       "\n",
       "[956 rows x 4 columns]"
      ]
     },
     "execution_count": 20,
     "metadata": {},
     "output_type": "execute_result"
    }
   ],
   "source": [
    "result_df"
   ]
  },
  {
   "cell_type": "code",
   "execution_count": 3,
   "id": "af529550-6948-4a6f-b9ce-7e836c509bb5",
   "metadata": {},
   "outputs": [
    {
     "name": "stdout",
     "output_type": "stream",
     "text": [
      "Paris is in Île-de-France: False\n"
     ]
    }
   ],
   "source": [
    "import requests\n",
    "\n",
    "def is_in_ile_de_france(city):\n",
    "    # Replace 'YOUR_API_KEY' with your actual API key from OpenCage Data.\n",
    "    api_key = 'b9e2eb5b5c324208b39db0f671d74bd7'\n",
    "    \n",
    "    # Define the base URL for the OpenCage Geocoding API\n",
    "    base_url = 'https://api.opencagedata.com/geocode/v1/json'\n",
    "    \n",
    "    # Prepare the request parameters\n",
    "    params = {\n",
    "        'q': city,\n",
    "        'key': api_key,\n",
    "    }\n",
    "    \n",
    "    try:\n",
    "        # Send a request to the API\n",
    "        response = requests.get(base_url, params=params)\n",
    "        data = response.json()\n",
    "        #print(data)\n",
    "        \n",
    "        # Check if the API returned a valid response\n",
    "        if response.status_code == 200 and data.get('results'):\n",
    "            # Get the first result (most relevant) and extract its administrative region\n",
    "            administrative_region = data['results'][0]['components'].get('state')\n",
    "            \n",
    "            # Check if the administrative region is 'Île-de-France'\n",
    "            if administrative_region == 'Île-de-France':\n",
    "                return True\n",
    "    except Exception as e:\n",
    "        print(f\"An error occurred: {e}\")\n",
    "    \n",
    "    return False\n",
    "\n",
    "# Example usage:\n",
    "city_name = \"Paris\"\n",
    "result = is_in_ile_de_france(city_name)\n",
    "print(f\"{city_name} is in Île-de-France: {result}\")\n"
   ]
  },
  {
   "cell_type": "code",
   "execution_count": 7,
   "id": "8474f9df-5ac7-46b0-8779-d8214e34c5c6",
   "metadata": {},
   "outputs": [],
   "source": [
    "from unidecode import unidecode"
   ]
  },
  {
   "cell_type": "code",
   "execution_count": 9,
   "id": "605b57fd-e7d8-43dc-979c-d81f8a6ba428",
   "metadata": {},
   "outputs": [
    {
     "name": "stdout",
     "output_type": "stream",
     "text": [
      "Ceciestunechainedecaracteresavecdescaracteresspeciaux\n"
     ]
    }
   ],
   "source": [
    "import re\n",
    "\n",
    "def supprimer_caracteres_speciaux(chaine):\n",
    "    # Utiliser une expression régulière pour garder seulement les lettres de l'alphabet\n",
    "    chaine = unidecode(chaine)\n",
    "    chaine_propre = re.sub(r'[^a-zA-Z]', '', chaine)\n",
    "    return chaine_propre\n",
    "\n",
    "# Exemple d'utilisation :\n",
    "chaine_originale = \"Ceci est une chaîne de caractères avec des 123 caractères spéciaux !\"\n",
    "chaine_propre = supprimer_caracteres_speciaux(chaine_originale)\n",
    "print(chaine_propre)"
   ]
  },
  {
   "cell_type": "code",
   "execution_count": 13,
   "id": "1926a1e2-bd2b-4315-9c58-916dec3d1378",
   "metadata": {},
   "outputs": [],
   "source": [
    "import dateparser\n",
    "from datetime import datetime\n",
    "def convert_to_days(temp_string: str) -> int:\n",
    "    \"\"\"\n",
    "    Convert a temporal string into a number of days since that date.\n",
    "\n",
    "    Args:\n",
    "        temp_string (str): The temporal string, e.g., \"il y a 3 jours\".\n",
    "\n",
    "    Returns:\n",
    "        int: Number of days since the date represented by temp_string.\n",
    "    \"\"\"\n",
    "    try:\n",
    "        parsed_date = dateparser.parse(temp_string, languages=[\"fr\", \"en\"])\n",
    "        today = datetime.now()\n",
    "        delta = today - parsed_date\n",
    "        return int(delta.days)\n",
    "    except Exception as error:\n",
    "        return -1"
   ]
  },
  {
   "cell_type": "code",
   "execution_count": 19,
   "id": "de21eab8-b486-4a0c-bd0d-fd449ad04b86",
   "metadata": {},
   "outputs": [
    {
     "data": {
      "text/plain": [
       "-1"
      ]
     },
     "execution_count": 19,
     "metadata": {},
     "output_type": "execute_result"
    }
   ],
   "source": [
    "convert_to_days(\"More than 3 days ago\")"
   ]
  },
  {
   "cell_type": "code",
   "execution_count": 1,
   "id": "a242768b-f73d-4108-86c0-505fedc848b6",
   "metadata": {},
   "outputs": [],
   "source": [
    "from ai_leads.model.job_dataset_creation import JobDataFrameCreator"
   ]
  },
  {
   "cell_type": "code",
   "execution_count": 2,
   "id": "aae5dae8-40d8-414d-8afc-a18caa35d979",
   "metadata": {},
   "outputs": [],
   "source": [
    "jobObject = JobDataFrameCreator()"
   ]
  },
  {
   "cell_type": "code",
   "execution_count": 3,
   "id": "67035a44-51c1-4ea0-958f-1ca5e47703d1",
   "metadata": {},
   "outputs": [
    {
     "data": {
      "text/plain": [
       "'30-11-2023'"
      ]
     },
     "execution_count": 3,
     "metadata": {},
     "output_type": "execute_result"
    }
   ],
   "source": [
    "jobObject.convert_to_date(\"il y a 3 jours\")"
   ]
  },
  {
   "cell_type": "code",
   "execution_count": 1,
   "id": "aa8c9c6e-711d-4b4a-be16-7b6ac53ed3d7",
   "metadata": {},
   "outputs": [],
   "source": [
    "import dateparser\n",
    "from datetime import datetime"
   ]
  },
  {
   "cell_type": "code",
   "execution_count": 2,
   "id": "f786de3e-5ff5-4dd8-a9c9-2b380dca155e",
   "metadata": {},
   "outputs": [],
   "source": [
    "parsed_date = dateparser.parse(\"il y a 3 jours\", languages=[\"fr\", \"en\"])"
   ]
  },
  {
   "cell_type": "code",
   "execution_count": 3,
   "id": "d3cf8d22-bf84-46e0-8e3e-1327cf12d2cb",
   "metadata": {},
   "outputs": [],
   "source": [
    "parsed_date = dateparser.parse(\"il y a 3 jours\", languages=[\"fr\", \"en\"])\n",
    "today = datetime.now()\n",
    "delta = today - parsed_date"
   ]
  },
  {
   "cell_type": "code",
   "execution_count": 4,
   "id": "e8578a11-e2b0-40b2-b5a7-bc5078bc929b",
   "metadata": {},
   "outputs": [
    {
     "data": {
      "text/plain": [
       "datetime.timedelta(days=3, microseconds=406)"
      ]
     },
     "execution_count": 4,
     "metadata": {},
     "output_type": "execute_result"
    }
   ],
   "source": [
    "delta"
   ]
  },
  {
   "cell_type": "code",
   "execution_count": 5,
   "id": "c5e3758a-dbc0-4bb1-88d9-c014d79fe8a9",
   "metadata": {},
   "outputs": [
    {
     "data": {
      "text/plain": [
       "datetime.datetime(2024, 1, 11, 18, 56, 40, 430439)"
      ]
     },
     "execution_count": 5,
     "metadata": {},
     "output_type": "execute_result"
    }
   ],
   "source": [
    "BASE_DATE = datetime.today()\n",
    "BASE_DATE - delta"
   ]
  },
  {
   "cell_type": "code",
   "execution_count": 3,
   "id": "6e27239f-a4de-4e17-9779-d9923da9daaf",
   "metadata": {},
   "outputs": [],
   "source": [
    "from ai_leads.Config.param import DATA_RECRUITING_PATH, DATA_NON_RECRUITING_PATH, JOB_FILE_PATH"
   ]
  },
  {
   "cell_type": "code",
   "execution_count": 12,
   "id": "3e0c0841-5340-47cc-acf6-83b08ae61dc9",
   "metadata": {},
   "outputs": [
    {
     "name": "stdout",
     "output_type": "stream",
     "text": [
      "/Users/raphaeladda/Desktop/Perso/AI-leads\n"
     ]
    }
   ],
   "source": [
    "cd .."
   ]
  },
  {
   "cell_type": "code",
   "execution_count": 14,
   "id": "2ef69676-85f6-4380-ace4-f17b567d66fc",
   "metadata": {},
   "outputs": [],
   "source": [
    "df = pd.read_csv(\"data/jobs_tests.csv\", sep = \";\", index_col = 0)"
   ]
  },
  {
   "cell_type": "code",
   "execution_count": 16,
   "id": "96d99d8b-9e68-4fcc-b6fc-267a199bc9b0",
   "metadata": {},
   "outputs": [],
   "source": [
    "df.company = df.company.apply(lambda x: str(x).lower().strip())"
   ]
  },
  {
   "cell_type": "code",
   "execution_count": 20,
   "id": "db75b4bf-43a9-4fe6-8ff8-6eba8a95921b",
   "metadata": {},
   "outputs": [],
   "source": [
    "with open(DATA_NON_RECRUITING_PATH, \"r\") as file:\n",
    "    non_recruiting_company_list = file.readlines()\n",
    "non_recruiting_company_list = [company[:-1] for company in non_recruiting_company_list]"
   ]
  },
  {
   "cell_type": "code",
   "execution_count": 21,
   "id": "34fb12b1-1a73-4e99-8b76-1da0061fb93f",
   "metadata": {},
   "outputs": [],
   "source": [
    "df[\"rcc\"] = df.company.apply(lambda x: x not in non_recruiting_company_list)"
   ]
  },
  {
   "cell_type": "code",
   "execution_count": 26,
   "id": "f8bee41e-3615-47f8-86cf-89678bd04850",
   "metadata": {},
   "outputs": [],
   "source": [
    "rcc_list = list(df[df[\"rcc\"]].company.unique())"
   ]
  },
  {
   "cell_type": "code",
   "execution_count": null,
   "id": "843fc2b5-02b3-4ec1-886e-edee5f6d0c7f",
   "metadata": {},
   "outputs": [],
   "source": [
    "# Liste d'éléments\n",
    "\n",
    "nom_fichier = \"list_recruiting_company.txt\"\n",
    "\n",
    "# Écriture de la liste dans le fichier texte\n",
    "with open(nom_fichier, \"w\") as fichier:\n",
    "    for element in rcc_list:\n",
    "        fichier.write(element + \"\\n\")\n",
    "\n",
    "print(f\"La liste a été enregistrée dans le fichier '{nom_fichier}'.\")\n"
   ]
  },
  {
   "cell_type": "code",
   "execution_count": 6,
   "id": "ccffe63f-1711-42e4-8edb-1fe5d3cfb22c",
   "metadata": {},
   "outputs": [],
   "source": [
    "df = pd.read_csv(\"../../data/donnees_communes.csv\", sep = \";\", index_col = 0)"
   ]
  },
  {
   "cell_type": "code",
   "execution_count": 9,
   "id": "926b8b29-5894-4285-b5fe-836bea234676",
   "metadata": {},
   "outputs": [],
   "source": [
    "df = df[[\"REG\", \"COM\"]]"
   ]
  },
  {
   "cell_type": "code",
   "execution_count": 18,
   "id": "d6fc66dc-3360-4d3d-a621-bb5c781b8dc1",
   "metadata": {},
   "outputs": [],
   "source": [
    "df = df[df[\"REG\"] == \"Île-de-France\"]"
   ]
  },
  {
   "cell_type": "code",
   "execution_count": 14,
   "id": "ab161467-6836-4b96-bbed-8df68e075412",
   "metadata": {},
   "outputs": [
    {
     "data": {
      "text/plain": [
       "array(['Auvergne-Rhône-Alpes', 'Hauts-de-France',\n",
       "       \"Provence-Alpes-Côte d'Azur\", 'Grand Est', 'Occitanie',\n",
       "       'Normandie', 'Nouvelle-Aquitaine', 'Centre-Val de Loire',\n",
       "       'Bourgogne-Franche-Comté', 'Bretagne', 'Corse', 'Pays de la Loire',\n",
       "       'Île-de-France', 'Guadeloupe', 'Martinique', 'Guyane',\n",
       "       'La Réunion'], dtype=object)"
      ]
     },
     "execution_count": 14,
     "metadata": {},
     "output_type": "execute_result"
    }
   ],
   "source": [
    "df.REG.unique()"
   ]
  },
  {
   "cell_type": "code",
   "execution_count": 23,
   "id": "44955527-2db9-4dae-9369-0c56c1175f5f",
   "metadata": {},
   "outputs": [],
   "source": [
    "import re\n",
    "from unidecode import unidecode\n",
    "\n",
    "def clean_str(string: str) -> str:\n",
    "    # Utiliser une expression régulière pour garder seulement les lettres de l'alphabet\n",
    "    clean_string = re.sub(r\"[^a-zA-Z]\", \"\", unidecode(string))\n",
    "    return clean_string.lower()"
   ]
  },
  {
   "cell_type": "code",
   "execution_count": 28,
   "id": "a837c76d-488e-4fee-9d47-2f55311566ee",
   "metadata": {},
   "outputs": [],
   "source": [
    "idf_city_list = list(df[\"COM\"].apply(clean_str).unique())\n",
    "idf_city_list.append(\"paris\")"
   ]
  },
  {
   "cell_type": "code",
   "execution_count": 29,
   "id": "198daa14-aa07-4124-9a10-17283ece6ec3",
   "metadata": {},
   "outputs": [
    {
     "name": "stdout",
     "output_type": "stream",
     "text": [
      "La liste a été enregistrée dans le fichier 'list_city_idf.txt'.\n"
     ]
    }
   ],
   "source": [
    "# Liste d'éléments\n",
    "\n",
    "nom_fichier = \"list_city_idf.txt\"\n",
    "\n",
    "# Écriture de la liste dans le fichier texte\n",
    "with open(nom_fichier, \"w\") as fichier:\n",
    "    for element in idf_city_list:\n",
    "        fichier.write(element + \"\\n\")\n",
    "\n",
    "print(f\"La liste a été enregistrée dans le fichier '{nom_fichier}'.\")\n"
   ]
  },
  {
   "cell_type": "markdown",
   "id": "ba924222-4cff-4b2e-a19c-4e4d6b877076",
   "metadata": {},
   "source": [
    "## Test Linkedin Google "
   ]
  },
  {
   "cell_type": "code",
   "execution_count": 1,
   "id": "e5f8bd79-03ef-43ea-8880-cd3cfd233456",
   "metadata": {},
   "outputs": [],
   "source": [
    "from ai_leads.model.navigator import WebpageScraper\n",
    "from ai_leads.model.linkedin_contact import LinkedInContactRetriever"
   ]
  },
  {
   "cell_type": "code",
   "execution_count": 2,
   "id": "500b1807-4359-4065-bebb-e8cf57ad562c",
   "metadata": {},
   "outputs": [],
   "source": [
    "scrapper_object = WebpageScraper()"
   ]
  },
  {
   "cell_type": "code",
   "execution_count": 4,
   "id": "1b292eed-3e76-43d9-9261-247ab267b052",
   "metadata": {},
   "outputs": [],
   "source": [
    "linkedin_retriever = LinkedInContactRetriever()"
   ]
  },
  {
   "cell_type": "code",
   "execution_count": 5,
   "id": "ad1293b0-563e-4a4c-8f70-cede2b76c42f",
   "metadata": {},
   "outputs": [
    {
     "data": {
      "text/plain": [
       "['https://fr.linkedin.com/in/estelle-moudenc-aa438750',\n",
       " 'https://fr.linkedin.com/in/emmanu%C3%A8le-beaufils-5981aa98']"
      ]
     },
     "execution_count": 5,
     "metadata": {},
     "output_type": "execute_result"
    }
   ],
   "source": [
    "linkedin_retriever.find_relevant_profiles(\"Chanel\")"
   ]
  },
  {
   "cell_type": "markdown",
   "id": "abb8b409-df69-45c4-b949-c37e72039b44",
   "metadata": {},
   "source": [
    "## Test LinkedIn Lib"
   ]
  },
  {
   "cell_type": "code",
   "execution_count": 14,
   "id": "d53212f0-9d5e-4f17-ac49-17e7b150492b",
   "metadata": {},
   "outputs": [
    {
     "name": "stdout",
     "output_type": "stream",
     "text": [
      "you are not logged in!\n"
     ]
    }
   ],
   "source": [
    "from linkedin_scraper import Person, actions\n",
    "from selenium import webdriver\n",
    "driver = webdriver.Chrome()\n",
    "\n",
    "email = \"raphaeladda@live.fr\"\n",
    "password = \"Lmessi21!\"\n",
    "actions.login(driver, email, password) # if email and password isnt given, it'll prompt in terminal\n",
    "person = Person(\"https://www.linkedin.com/in/andre-iguodala-65b48ab5\")"
   ]
  },
  {
   "cell_type": "markdown",
   "id": "fa01a13a-eb9b-4ca4-9585-72175f19a9b4",
   "metadata": {},
   "source": [
    "Not good library"
   ]
  },
  {
   "cell_type": "markdown",
   "id": "47f7bb4e-2016-4547-994b-15e55e099200",
   "metadata": {},
   "source": [
    "## Test new parser"
   ]
  },
  {
   "cell_type": "code",
   "execution_count": 1,
   "id": "508f588d-8ea3-425a-83df-aeca7ed46eea",
   "metadata": {},
   "outputs": [],
   "source": [
    "from ai_leads.Config.param import template_find_activity, enum_parser_activity\n",
    "from ai_leads.model.llm_model import LLMManager"
   ]
  },
  {
   "cell_type": "code",
   "execution_count": 2,
   "id": "232705fb-2909-4388-816b-e7cf1251eeb2",
   "metadata": {},
   "outputs": [],
   "source": [
    "llm_manager = LLMManager()"
   ]
  },
  {
   "cell_type": "code",
   "execution_count": 10,
   "id": "f71a24fd-fba7-4ce2-be85-e75f16b6f0b2",
   "metadata": {},
   "outputs": [],
   "source": [
    "output_parser = enum_parser_activity\n",
    "format_instructions = output_parser.get_format_instructions()\n",
    "html_raw_code = \"Iscod est agence d'interim\"\n",
    "prompt = llm_manager.prepare_prompt(\n",
    "                template_find_activity,\n",
    "                input_vars=[\"html_raw_code\"],\n",
    "                partial_vars={\"format_instructions\": format_instructions},\n",
    "            )\n",
    "response = llm_manager.run_llm_chain(prompt, html_raw_code=html_raw_code)"
   ]
  },
  {
   "cell_type": "code",
   "execution_count": 11,
   "id": "b513fbb8-6888-4c63-8b2f-51666a705be6",
   "metadata": {},
   "outputs": [
    {
     "data": {
      "text/plain": [
       "<CompanyActivity.RECRUITING: 'Recruitment'>"
      ]
     },
     "execution_count": 11,
     "metadata": {},
     "output_type": "execute_result"
    }
   ],
   "source": [
    "output_parser.parse(response)"
   ]
  },
  {
   "cell_type": "code",
   "execution_count": 5,
   "id": "ea39fb8c-43ef-488b-b362-221d0c39019f",
   "metadata": {},
   "outputs": [],
   "source": [
    "from enum import Enum\n",
    "from langchain.output_parsers.enum import EnumOutputParser\n",
    "from langchain.chat_models import ChatOpenAI\n",
    "\n",
    "class Colors(Enum):\n",
    "    RED = \"red\"\n",
    "    GREEN = \"green\"\n",
    "    BLUE = \"blue\"\n",
    "\n",
    "parser = EnumOutputParser(enum=Colors)\n",
    "\n",
    "from langchain.prompts import PromptTemplate\n",
    "\n",
    "prompt = PromptTemplate.from_template(\n",
    "    \"\"\"What color eyes does this person have?\n",
    "\n",
    "> Person: {person}\n",
    "\n",
    "Instructions: {instructions}\"\"\"\n",
    ").partial(instructions=parser.get_format_instructions())\n",
    "chain = prompt | ChatOpenAI() | parser"
   ]
  },
  {
   "cell_type": "code",
   "execution_count": 6,
   "id": "b403c957-7017-4c01-ac65-92c5e179a0dd",
   "metadata": {},
   "outputs": [],
   "source": [
    "res = chain.invoke({\"person\": \"Frank Sinatra\"})"
   ]
  },
  {
   "cell_type": "code",
   "execution_count": 1,
   "id": "955e5ff7-4731-4728-b168-ca714815f571",
   "metadata": {},
   "outputs": [],
   "source": [
    "from ai_leads.model.lead_dataset_creation import LeadDataFrameConverter"
   ]
  },
  {
   "cell_type": "code",
   "execution_count": 2,
   "id": "7072f10b-0c43-42bf-8ba8-848f0d755cad",
   "metadata": {},
   "outputs": [],
   "source": [
    "import pandas as pd\n",
    "leadConverter = LeadDataFrameConverter(pd.DataFrame())"
   ]
  },
  {
   "cell_type": "code",
   "execution_count": 10,
   "id": "11feaee1-e2d6-46a5-8864-439870d06539",
   "metadata": {},
   "outputs": [
    {
     "data": {
      "text/plain": [
       "'Recruitment'"
      ]
     },
     "execution_count": 10,
     "metadata": {},
     "output_type": "execute_result"
    }
   ],
   "source": [
    "leadConverter.determine_activity_sector(\"robert walters lyon manufacturing et supply chain\")"
   ]
  },
  {
   "cell_type": "code",
   "execution_count": null,
   "id": "cf10f97b-ec15-4de2-abbb-3b9f69df0ae5",
   "metadata": {},
   "outputs": [],
   "source": []
  }
 ],
 "metadata": {
  "kernelspec": {
   "display_name": "ai-leads-dev",
   "language": "python",
   "name": "ai-leads-dev"
  },
  "language_info": {
   "codemirror_mode": {
    "name": "ipython",
    "version": 3
   },
   "file_extension": ".py",
   "mimetype": "text/x-python",
   "name": "python",
   "nbconvert_exporter": "python",
   "pygments_lexer": "ipython3",
   "version": "3.11.3"
  }
 },
 "nbformat": 4,
 "nbformat_minor": 5
}
