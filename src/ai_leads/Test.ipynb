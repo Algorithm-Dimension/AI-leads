{
 "cells": [
  {
   "cell_type": "code",
   "execution_count": 1,
   "id": "e191c1dc-c504-4ca2-9657-5377ba096e94",
   "metadata": {},
   "outputs": [],
   "source": [
    "import pandas as pd"
   ]
  },
  {
   "cell_type": "code",
   "execution_count": 2,
   "id": "1a5cfdde-8150-4857-8c15-671f02aae62b",
   "metadata": {},
   "outputs": [],
   "source": [
    "import os"
   ]
  },
  {
   "cell_type": "code",
   "execution_count": 3,
   "id": "68e8529d-2ff3-430b-ab74-13f67b9f6b38",
   "metadata": {},
   "outputs": [],
   "source": [
    "DATA_PATH = \"../../data\"\n",
    "df_jobs = pd.read_csv(os.path.join(DATA_PATH, \"jobs_tests.csv\"), sep=\";\", index_col=0)[\n",
    "    [\"job name\", \"company\", \"location\", \"offer date\", \"contact\", \"position\", \"source\", \"url\"]\n",
    "]\n",
    "df_leads = pd.read_csv(os.path.join(DATA_PATH, \"leads_tests.csv\"))"
   ]
  },
  {
   "cell_type": "code",
   "execution_count": 77,
   "id": "b2dbe6d4-30be-4316-b794-26c8ef15f3ad",
   "metadata": {},
   "outputs": [],
   "source": [
    "df_leads['company_id'] = pd.factorize(df_leads['Entreprise'])[0]"
   ]
  },
  {
   "cell_type": "code",
   "execution_count": 78,
   "id": "e0cf1b2d-cfcf-41ea-8be8-03136634a0f3",
   "metadata": {},
   "outputs": [
    {
     "data": {
      "text/html": [
       "<div>\n",
       "<style scoped>\n",
       "    .dataframe tbody tr th:only-of-type {\n",
       "        vertical-align: middle;\n",
       "    }\n",
       "\n",
       "    .dataframe tbody tr th {\n",
       "        vertical-align: top;\n",
       "    }\n",
       "\n",
       "    .dataframe thead th {\n",
       "        text-align: right;\n",
       "    }\n",
       "</style>\n",
       "<table border=\"1\" class=\"dataframe\">\n",
       "  <thead>\n",
       "    <tr style=\"text-align: right;\">\n",
       "      <th></th>\n",
       "      <th>job name</th>\n",
       "      <th>company</th>\n",
       "      <th>location</th>\n",
       "      <th>offer date</th>\n",
       "      <th>contact</th>\n",
       "      <th>position</th>\n",
       "      <th>source</th>\n",
       "      <th>url</th>\n",
       "    </tr>\n",
       "  </thead>\n",
       "  <tbody>\n",
       "    <tr>\n",
       "      <th>0</th>\n",
       "      <td>Acheteur/Acheteuse en Industrie H/F</td>\n",
       "      <td>AKKODIS</td>\n",
       "      <td>Belfort</td>\n",
       "      <td>N.A.</td>\n",
       "      <td>N.A.</td>\n",
       "      <td>Acheteur</td>\n",
       "      <td>Cadre Emploi</td>\n",
       "      <td>https://www.cadremploi.fr/emploi/liste_offres?...</td>\n",
       "    </tr>\n",
       "    <tr>\n",
       "      <th>1</th>\n",
       "      <td>Stage - Acheteur / Acheteuse IT H/F</td>\n",
       "      <td>CMA CGM</td>\n",
       "      <td>Marseille</td>\n",
       "      <td>N.A.</td>\n",
       "      <td>N.A.</td>\n",
       "      <td>Acheteur</td>\n",
       "      <td>Cadre Emploi</td>\n",
       "      <td>https://www.cadremploi.fr/emploi/liste_offres?...</td>\n",
       "    </tr>\n",
       "    <tr>\n",
       "      <th>2</th>\n",
       "      <td>Acheteur Acheteur Industriel H/FH/F</td>\n",
       "      <td>ALDES</td>\n",
       "      <td>Vénissieux</td>\n",
       "      <td>N.A.</td>\n",
       "      <td>N.A.</td>\n",
       "      <td>Acheteur</td>\n",
       "      <td>Cadre Emploi</td>\n",
       "      <td>https://www.cadremploi.fr/emploi/liste_offres?...</td>\n",
       "    </tr>\n",
       "    <tr>\n",
       "      <th>3</th>\n",
       "      <td>Stage - Acheteur/ Acheteuse Feedering H/F</td>\n",
       "      <td>CMA CGM</td>\n",
       "      <td>Marseille</td>\n",
       "      <td>N.A.</td>\n",
       "      <td>N.A.</td>\n",
       "      <td>Acheteur</td>\n",
       "      <td>Cadre Emploi</td>\n",
       "      <td>https://www.cadremploi.fr/emploi/liste_offres?...</td>\n",
       "    </tr>\n",
       "    <tr>\n",
       "      <th>4</th>\n",
       "      <td>Acheteur Acheteur Industriel H/FH/F</td>\n",
       "      <td>ALDES</td>\n",
       "      <td>Vénissieux</td>\n",
       "      <td>N.A.</td>\n",
       "      <td>N.A.</td>\n",
       "      <td>Acheteur</td>\n",
       "      <td>Cadre Emploi</td>\n",
       "      <td>https://www.cadremploi.fr/emploi/liste_offres?...</td>\n",
       "    </tr>\n",
       "    <tr>\n",
       "      <th>...</th>\n",
       "      <td>...</td>\n",
       "      <td>...</td>\n",
       "      <td>...</td>\n",
       "      <td>...</td>\n",
       "      <td>...</td>\n",
       "      <td>...</td>\n",
       "      <td>...</td>\n",
       "      <td>...</td>\n",
       "    </tr>\n",
       "    <tr>\n",
       "      <th>10</th>\n",
       "      <td>Office Manager H/F</td>\n",
       "      <td>PGWO</td>\n",
       "      <td>Paris 1er (75)</td>\n",
       "      <td>il y a 18 jours</td>\n",
       "      <td>N.A.</td>\n",
       "      <td>Office Manager</td>\n",
       "      <td>Indeed</td>\n",
       "      <td>https://fr.indeed.com/jobs?q=Office Manager&amp;l=...</td>\n",
       "    </tr>\n",
       "    <tr>\n",
       "      <th>11</th>\n",
       "      <td>Office Manager H/F</td>\n",
       "      <td>SantéCité</td>\n",
       "      <td>Paris 9e (75)</td>\n",
       "      <td>il y a 3 jours</td>\n",
       "      <td>N.A.</td>\n",
       "      <td>Office Manager</td>\n",
       "      <td>Indeed</td>\n",
       "      <td>https://fr.indeed.com/jobs?q=Office Manager&amp;l=...</td>\n",
       "    </tr>\n",
       "    <tr>\n",
       "      <th>12</th>\n",
       "      <td>Office Manager H/F</td>\n",
       "      <td>Page Personnel</td>\n",
       "      <td>Paris (75)</td>\n",
       "      <td>il y a 4 jours</td>\n",
       "      <td>N.A.</td>\n",
       "      <td>Office Manager</td>\n",
       "      <td>Indeed</td>\n",
       "      <td>https://fr.indeed.com/jobs?q=Office Manager&amp;l=...</td>\n",
       "    </tr>\n",
       "    <tr>\n",
       "      <th>13</th>\n",
       "      <td>Office Manager</td>\n",
       "      <td>CSM</td>\n",
       "      <td>Paris (75)</td>\n",
       "      <td>il y a 25 jours</td>\n",
       "      <td>N.A.</td>\n",
       "      <td>Office Manager</td>\n",
       "      <td>Indeed</td>\n",
       "      <td>https://fr.indeed.com/jobs?q=Office Manager&amp;l=...</td>\n",
       "    </tr>\n",
       "    <tr>\n",
       "      <th>14</th>\n",
       "      <td>EA and Office Manager</td>\n",
       "      <td>Joss Search</td>\n",
       "      <td>Paris (75)</td>\n",
       "      <td>il y a 12 jours</td>\n",
       "      <td>N.A.</td>\n",
       "      <td>Office Manager</td>\n",
       "      <td>Indeed</td>\n",
       "      <td>https://fr.indeed.com/jobs?q=Office Manager&amp;l=...</td>\n",
       "    </tr>\n",
       "  </tbody>\n",
       "</table>\n",
       "<p>7170 rows × 8 columns</p>\n",
       "</div>"
      ],
      "text/plain": [
       "                                     job name         company        location  \\\n",
       "0         Acheteur/Acheteuse en Industrie H/F         AKKODIS         Belfort   \n",
       "1         Stage - Acheteur / Acheteuse IT H/F         CMA CGM       Marseille   \n",
       "2         Acheteur Acheteur Industriel H/FH/F           ALDES      Vénissieux   \n",
       "3   Stage - Acheteur/ Acheteuse Feedering H/F         CMA CGM       Marseille   \n",
       "4         Acheteur Acheteur Industriel H/FH/F           ALDES      Vénissieux   \n",
       "..                                        ...             ...             ...   \n",
       "10                         Office Manager H/F            PGWO  Paris 1er (75)   \n",
       "11                         Office Manager H/F       SantéCité   Paris 9e (75)   \n",
       "12                         Office Manager H/F  Page Personnel      Paris (75)   \n",
       "13                             Office Manager             CSM      Paris (75)   \n",
       "14                      EA and Office Manager     Joss Search      Paris (75)   \n",
       "\n",
       "         offer date contact        position        source  \\\n",
       "0              N.A.    N.A.        Acheteur  Cadre Emploi   \n",
       "1              N.A.    N.A.        Acheteur  Cadre Emploi   \n",
       "2              N.A.    N.A.        Acheteur  Cadre Emploi   \n",
       "3              N.A.    N.A.        Acheteur  Cadre Emploi   \n",
       "4              N.A.    N.A.        Acheteur  Cadre Emploi   \n",
       "..              ...     ...             ...           ...   \n",
       "10  il y a 18 jours    N.A.  Office Manager        Indeed   \n",
       "11   il y a 3 jours    N.A.  Office Manager        Indeed   \n",
       "12   il y a 4 jours    N.A.  Office Manager        Indeed   \n",
       "13  il y a 25 jours    N.A.  Office Manager        Indeed   \n",
       "14  il y a 12 jours    N.A.  Office Manager        Indeed   \n",
       "\n",
       "                                                  url  \n",
       "0   https://www.cadremploi.fr/emploi/liste_offres?...  \n",
       "1   https://www.cadremploi.fr/emploi/liste_offres?...  \n",
       "2   https://www.cadremploi.fr/emploi/liste_offres?...  \n",
       "3   https://www.cadremploi.fr/emploi/liste_offres?...  \n",
       "4   https://www.cadremploi.fr/emploi/liste_offres?...  \n",
       "..                                                ...  \n",
       "10  https://fr.indeed.com/jobs?q=Office Manager&l=...  \n",
       "11  https://fr.indeed.com/jobs?q=Office Manager&l=...  \n",
       "12  https://fr.indeed.com/jobs?q=Office Manager&l=...  \n",
       "13  https://fr.indeed.com/jobs?q=Office Manager&l=...  \n",
       "14  https://fr.indeed.com/jobs?q=Office Manager&l=...  \n",
       "\n",
       "[7170 rows x 8 columns]"
      ]
     },
     "execution_count": 78,
     "metadata": {},
     "output_type": "execute_result"
    }
   ],
   "source": [
    "df_jobs"
   ]
  },
  {
   "cell_type": "code",
   "execution_count": 79,
   "id": "3562738b-1227-4a4c-8608-01a1dfa5f540",
   "metadata": {},
   "outputs": [],
   "source": [
    "df = df_leads[[\"company_id\",\"Entreprise\"]].rename(columns = {\"Entreprise\": \"company\"})"
   ]
  },
  {
   "cell_type": "code",
   "execution_count": 81,
   "id": "e36159f7-9435-4c52-9a13-425dde76e261",
   "metadata": {},
   "outputs": [
    {
     "data": {
      "text/html": [
       "<div>\n",
       "<style scoped>\n",
       "    .dataframe tbody tr th:only-of-type {\n",
       "        vertical-align: middle;\n",
       "    }\n",
       "\n",
       "    .dataframe tbody tr th {\n",
       "        vertical-align: top;\n",
       "    }\n",
       "\n",
       "    .dataframe thead th {\n",
       "        text-align: right;\n",
       "    }\n",
       "</style>\n",
       "<table border=\"1\" class=\"dataframe\">\n",
       "  <thead>\n",
       "    <tr style=\"text-align: right;\">\n",
       "      <th></th>\n",
       "      <th>company_id</th>\n",
       "      <th>company</th>\n",
       "    </tr>\n",
       "  </thead>\n",
       "  <tbody>\n",
       "    <tr>\n",
       "      <th>0</th>\n",
       "      <td>0</td>\n",
       "      <td>n.a.</td>\n",
       "    </tr>\n",
       "    <tr>\n",
       "      <th>1</th>\n",
       "      <td>1</td>\n",
       "      <td>armée de l'air et de l'espace</td>\n",
       "    </tr>\n",
       "    <tr>\n",
       "      <th>2</th>\n",
       "      <td>2</td>\n",
       "      <td>iscod</td>\n",
       "    </tr>\n",
       "    <tr>\n",
       "      <th>3</th>\n",
       "      <td>3</td>\n",
       "      <td>lhh recruitment solutions</td>\n",
       "    </tr>\n",
       "    <tr>\n",
       "      <th>4</th>\n",
       "      <td>4</td>\n",
       "      <td>page personnel</td>\n",
       "    </tr>\n",
       "    <tr>\n",
       "      <th>...</th>\n",
       "      <td>...</td>\n",
       "      <td>...</td>\n",
       "    </tr>\n",
       "    <tr>\n",
       "      <th>1131</th>\n",
       "      <td>1131</td>\n",
       "      <td>groupama - g2s</td>\n",
       "    </tr>\n",
       "    <tr>\n",
       "      <th>1132</th>\n",
       "      <td>1132</td>\n",
       "      <td>groupama supports et services</td>\n",
       "    </tr>\n",
       "    <tr>\n",
       "      <th>1133</th>\n",
       "      <td>1133</td>\n",
       "      <td>groupapharm</td>\n",
       "    </tr>\n",
       "    <tr>\n",
       "      <th>1134</th>\n",
       "      <td>1134</td>\n",
       "      <td>groupe advenis</td>\n",
       "    </tr>\n",
       "    <tr>\n",
       "      <th>1135</th>\n",
       "      <td>1135</td>\n",
       "      <td>élivie</td>\n",
       "    </tr>\n",
       "  </tbody>\n",
       "</table>\n",
       "<p>1136 rows × 2 columns</p>\n",
       "</div>"
      ],
      "text/plain": [
       "      company_id                        company\n",
       "0              0                           n.a.\n",
       "1              1  armée de l'air et de l'espace\n",
       "2              2                          iscod\n",
       "3              3      lhh recruitment solutions\n",
       "4              4                 page personnel\n",
       "...          ...                            ...\n",
       "1131        1131                 groupama - g2s\n",
       "1132        1132  groupama supports et services\n",
       "1133        1133                    groupapharm\n",
       "1134        1134                 groupe advenis\n",
       "1135        1135                         élivie\n",
       "\n",
       "[1136 rows x 2 columns]"
      ]
     },
     "execution_count": 81,
     "metadata": {},
     "output_type": "execute_result"
    }
   ],
   "source": [
    "df"
   ]
  },
  {
   "cell_type": "code",
   "execution_count": 82,
   "id": "09a5af07-fbb1-4f94-8ffd-a27058f582d0",
   "metadata": {},
   "outputs": [],
   "source": [
    "df_jobs[\"company\"] = df_jobs[\"company\"].apply(lambda x: x.lower() if type(x) is str else x)"
   ]
  },
  {
   "cell_type": "code",
   "execution_count": 83,
   "id": "8ec0fc68-b868-484d-9130-d418ff4f4140",
   "metadata": {},
   "outputs": [],
   "source": [
    "df_jobs = pd.merge(df_jobs,df, on =\"company\")"
   ]
  },
  {
   "cell_type": "code",
   "execution_count": 41,
   "id": "5ac5c3e4-8ffb-4436-bcd4-baddda1cfc3c",
   "metadata": {},
   "outputs": [
    {
     "data": {
      "text/html": [
       "<div>\n",
       "<style scoped>\n",
       "    .dataframe tbody tr th:only-of-type {\n",
       "        vertical-align: middle;\n",
       "    }\n",
       "\n",
       "    .dataframe tbody tr th {\n",
       "        vertical-align: top;\n",
       "    }\n",
       "\n",
       "    .dataframe thead th {\n",
       "        text-align: right;\n",
       "    }\n",
       "</style>\n",
       "<table border=\"1\" class=\"dataframe\">\n",
       "  <thead>\n",
       "    <tr style=\"text-align: right;\">\n",
       "      <th></th>\n",
       "      <th>company_id</th>\n",
       "      <th>company</th>\n",
       "    </tr>\n",
       "  </thead>\n",
       "  <tbody>\n",
       "    <tr>\n",
       "      <th>0</th>\n",
       "      <td>0</td>\n",
       "      <td>n.a.</td>\n",
       "    </tr>\n",
       "    <tr>\n",
       "      <th>1</th>\n",
       "      <td>1</td>\n",
       "      <td>armée de l'air et de l'espace</td>\n",
       "    </tr>\n",
       "    <tr>\n",
       "      <th>2</th>\n",
       "      <td>2</td>\n",
       "      <td>iscod</td>\n",
       "    </tr>\n",
       "    <tr>\n",
       "      <th>3</th>\n",
       "      <td>3</td>\n",
       "      <td>lhh recruitment solutions</td>\n",
       "    </tr>\n",
       "    <tr>\n",
       "      <th>4</th>\n",
       "      <td>4</td>\n",
       "      <td>page personnel</td>\n",
       "    </tr>\n",
       "    <tr>\n",
       "      <th>...</th>\n",
       "      <td>...</td>\n",
       "      <td>...</td>\n",
       "    </tr>\n",
       "    <tr>\n",
       "      <th>1131</th>\n",
       "      <td>1131</td>\n",
       "      <td>groupama - g2s</td>\n",
       "    </tr>\n",
       "    <tr>\n",
       "      <th>1132</th>\n",
       "      <td>1132</td>\n",
       "      <td>groupama supports et services</td>\n",
       "    </tr>\n",
       "    <tr>\n",
       "      <th>1133</th>\n",
       "      <td>1133</td>\n",
       "      <td>groupapharm</td>\n",
       "    </tr>\n",
       "    <tr>\n",
       "      <th>1134</th>\n",
       "      <td>1134</td>\n",
       "      <td>groupe advenis</td>\n",
       "    </tr>\n",
       "    <tr>\n",
       "      <th>1135</th>\n",
       "      <td>1135</td>\n",
       "      <td>élivie</td>\n",
       "    </tr>\n",
       "  </tbody>\n",
       "</table>\n",
       "<p>1136 rows × 2 columns</p>\n",
       "</div>"
      ],
      "text/plain": [
       "      company_id                        company\n",
       "0              0                           n.a.\n",
       "1              1  armée de l'air et de l'espace\n",
       "2              2                          iscod\n",
       "3              3      lhh recruitment solutions\n",
       "4              4                 page personnel\n",
       "...          ...                            ...\n",
       "1131        1131                 groupama - g2s\n",
       "1132        1132  groupama supports et services\n",
       "1133        1133                    groupapharm\n",
       "1134        1134                 groupe advenis\n",
       "1135        1135                         élivie\n",
       "\n",
       "[1136 rows x 2 columns]"
      ]
     },
     "execution_count": 41,
     "metadata": {},
     "output_type": "execute_result"
    }
   ],
   "source": [
    "df_leads[[\"company_id\",\"Entreprise\"]].rename(columns = {\"Entreprise\": \"company\"})"
   ]
  },
  {
   "cell_type": "code",
   "execution_count": 85,
   "id": "f89a818b-fb94-493e-8934-6331dc326dab",
   "metadata": {},
   "outputs": [],
   "source": [
    "df_jobs.to_csv(os.path.join(DATA_PATH, \"jobs_tests.csv\"), sep = \";\", index = False)"
   ]
  },
  {
   "cell_type": "code",
   "execution_count": 86,
   "id": "242facee-f4d5-49d8-bcd4-58b5ae792279",
   "metadata": {},
   "outputs": [],
   "source": [
    "df_leads.to_csv(os.path.join(DATA_PATH, \"leads_tests.csv\"), sep = \",\", index = False)"
   ]
  },
  {
   "cell_type": "code",
   "execution_count": 87,
   "id": "8fa21787-a38f-42c1-8806-ab03e6d8c3e3",
   "metadata": {},
   "outputs": [
    {
     "data": {
      "text/html": [
       "<div>\n",
       "<style scoped>\n",
       "    .dataframe tbody tr th:only-of-type {\n",
       "        vertical-align: middle;\n",
       "    }\n",
       "\n",
       "    .dataframe tbody tr th {\n",
       "        vertical-align: top;\n",
       "    }\n",
       "\n",
       "    .dataframe thead th {\n",
       "        text-align: right;\n",
       "    }\n",
       "</style>\n",
       "<table border=\"1\" class=\"dataframe\">\n",
       "  <thead>\n",
       "    <tr style=\"text-align: right;\">\n",
       "      <th></th>\n",
       "      <th>job name</th>\n",
       "      <th>company</th>\n",
       "      <th>location</th>\n",
       "      <th>offer date</th>\n",
       "      <th>contact</th>\n",
       "      <th>position</th>\n",
       "      <th>source</th>\n",
       "      <th>url</th>\n",
       "      <th>company_id</th>\n",
       "    </tr>\n",
       "  </thead>\n",
       "  <tbody>\n",
       "    <tr>\n",
       "      <th>0</th>\n",
       "      <td>Acheteur H/F</td>\n",
       "      <td>groupe roullier - cfpr</td>\n",
       "      <td>Loudéac</td>\n",
       "      <td>Dernier jour</td>\n",
       "      <td>N.A.</td>\n",
       "      <td>Acheteur</td>\n",
       "      <td>Cadre Emploi</td>\n",
       "      <td>https://www.cadremploi.fr/emploi/liste_offres?...</td>\n",
       "      <td>107</td>\n",
       "    </tr>\n",
       "    <tr>\n",
       "      <th>1</th>\n",
       "      <td>Gestionnaire Risk Management et Assurances Gro...</td>\n",
       "      <td>groupe roullier - cfpr</td>\n",
       "      <td>Saint-Malo</td>\n",
       "      <td>Temporary</td>\n",
       "      <td>N.A.</td>\n",
       "      <td>Gestionnaire back office</td>\n",
       "      <td>Cadre Emploi</td>\n",
       "      <td>https://www.cadremploi.fr/emploi/liste_offres?...</td>\n",
       "      <td>107</td>\n",
       "    </tr>\n",
       "    <tr>\n",
       "      <th>2</th>\n",
       "      <td>Assistant de Direction H/F</td>\n",
       "      <td>groupe roullier - cfpr</td>\n",
       "      <td>Saint-Malo</td>\n",
       "      <td>il y a 1 semaine</td>\n",
       "      <td>N.A.</td>\n",
       "      <td>Assistant RH</td>\n",
       "      <td>Cadre Emploi</td>\n",
       "      <td>https://www.cadremploi.fr/emploi/liste_offres?...</td>\n",
       "      <td>107</td>\n",
       "    </tr>\n",
       "    <tr>\n",
       "      <th>3</th>\n",
       "      <td>Acheteur (h/f)</td>\n",
       "      <td>lhh recruitment solutions</td>\n",
       "      <td>Villeurbanne</td>\n",
       "      <td>Dernier jour</td>\n",
       "      <td>N.A.</td>\n",
       "      <td>Acheteur</td>\n",
       "      <td>Cadre Emploi</td>\n",
       "      <td>https://www.cadremploi.fr/emploi/liste_offres?...</td>\n",
       "      <td>3</td>\n",
       "    </tr>\n",
       "    <tr>\n",
       "      <th>4</th>\n",
       "      <td>Acheteur (h/f)</td>\n",
       "      <td>lhh recruitment solutions</td>\n",
       "      <td>Vénissieux</td>\n",
       "      <td>N.A.</td>\n",
       "      <td>N.A.</td>\n",
       "      <td>Acheteur</td>\n",
       "      <td>Cadre Emploi</td>\n",
       "      <td>https://www.cadremploi.fr/emploi/liste_offres?...</td>\n",
       "      <td>3</td>\n",
       "    </tr>\n",
       "    <tr>\n",
       "      <th>...</th>\n",
       "      <td>...</td>\n",
       "      <td>...</td>\n",
       "      <td>...</td>\n",
       "      <td>...</td>\n",
       "      <td>...</td>\n",
       "      <td>...</td>\n",
       "      <td>...</td>\n",
       "      <td>...</td>\n",
       "      <td>...</td>\n",
       "    </tr>\n",
       "    <tr>\n",
       "      <th>4703</th>\n",
       "      <td>Project Management Office Manager F/H</td>\n",
       "      <td>thales</td>\n",
       "      <td>Issy-les-Moulineaux (92)</td>\n",
       "      <td>il y a 2 jours</td>\n",
       "      <td>N.A.</td>\n",
       "      <td>Office Manager</td>\n",
       "      <td>Indeed</td>\n",
       "      <td>https://fr.indeed.com/jobs?q=Office Manager&amp;l=...</td>\n",
       "      <td>554</td>\n",
       "    </tr>\n",
       "    <tr>\n",
       "      <th>4704</th>\n",
       "      <td>Office Manager &amp; RH - Stage</td>\n",
       "      <td>yespark</td>\n",
       "      <td>Paris 11e</td>\n",
       "      <td>il y a 3 jours</td>\n",
       "      <td>N.A.</td>\n",
       "      <td>Office Manager</td>\n",
       "      <td>Indeed</td>\n",
       "      <td>https://fr.indeed.com/jobs?q=Office Manager&amp;l=...</td>\n",
       "      <td>427</td>\n",
       "    </tr>\n",
       "    <tr>\n",
       "      <th>4705</th>\n",
       "      <td>Office Manager H/F</td>\n",
       "      <td>axelys santé</td>\n",
       "      <td>Malakoff (92)</td>\n",
       "      <td>il y a 3 jours</td>\n",
       "      <td>N.A.</td>\n",
       "      <td>Office Manager</td>\n",
       "      <td>Indeed</td>\n",
       "      <td>https://fr.indeed.com/jobs?q=Office Manager&amp;l=...</td>\n",
       "      <td>861</td>\n",
       "    </tr>\n",
       "    <tr>\n",
       "      <th>4706</th>\n",
       "      <td>Gestionnaire administratif adidas (H/F/D) - 35...</td>\n",
       "      <td>adidas</td>\n",
       "      <td>Paris (75)</td>\n",
       "      <td>il y a 3 jours</td>\n",
       "      <td>N.A.</td>\n",
       "      <td>Office Manager</td>\n",
       "      <td>Indeed</td>\n",
       "      <td>https://fr.indeed.com/jobs?q=Office Manager&amp;l=...</td>\n",
       "      <td>853</td>\n",
       "    </tr>\n",
       "    <tr>\n",
       "      <th>4707</th>\n",
       "      <td>Office Manager H/F</td>\n",
       "      <td>santécité</td>\n",
       "      <td>Paris 9e (75)</td>\n",
       "      <td>il y a 3 jours</td>\n",
       "      <td>N.A.</td>\n",
       "      <td>Office Manager</td>\n",
       "      <td>Indeed</td>\n",
       "      <td>https://fr.indeed.com/jobs?q=Office Manager&amp;l=...</td>\n",
       "      <td>524</td>\n",
       "    </tr>\n",
       "  </tbody>\n",
       "</table>\n",
       "<p>4708 rows × 9 columns</p>\n",
       "</div>"
      ],
      "text/plain": [
       "                                               job name  \\\n",
       "0                                          Acheteur H/F   \n",
       "1     Gestionnaire Risk Management et Assurances Gro...   \n",
       "2                            Assistant de Direction H/F   \n",
       "3                                        Acheteur (h/f)   \n",
       "4                                        Acheteur (h/f)   \n",
       "...                                                 ...   \n",
       "4703              Project Management Office Manager F/H   \n",
       "4704                        Office Manager & RH - Stage   \n",
       "4705                                 Office Manager H/F   \n",
       "4706  Gestionnaire administratif adidas (H/F/D) - 35...   \n",
       "4707                                 Office Manager H/F   \n",
       "\n",
       "                        company                  location        offer date  \\\n",
       "0        groupe roullier - cfpr                   Loudéac      Dernier jour   \n",
       "1        groupe roullier - cfpr                Saint-Malo         Temporary   \n",
       "2        groupe roullier - cfpr                Saint-Malo  il y a 1 semaine   \n",
       "3     lhh recruitment solutions              Villeurbanne      Dernier jour   \n",
       "4     lhh recruitment solutions                Vénissieux              N.A.   \n",
       "...                         ...                       ...               ...   \n",
       "4703                     thales  Issy-les-Moulineaux (92)    il y a 2 jours   \n",
       "4704                    yespark                 Paris 11e    il y a 3 jours   \n",
       "4705               axelys santé             Malakoff (92)    il y a 3 jours   \n",
       "4706                     adidas                Paris (75)    il y a 3 jours   \n",
       "4707                  santécité             Paris 9e (75)    il y a 3 jours   \n",
       "\n",
       "     contact                  position        source  \\\n",
       "0       N.A.                  Acheteur  Cadre Emploi   \n",
       "1       N.A.  Gestionnaire back office  Cadre Emploi   \n",
       "2       N.A.              Assistant RH  Cadre Emploi   \n",
       "3       N.A.                  Acheteur  Cadre Emploi   \n",
       "4       N.A.                  Acheteur  Cadre Emploi   \n",
       "...      ...                       ...           ...   \n",
       "4703    N.A.            Office Manager        Indeed   \n",
       "4704    N.A.            Office Manager        Indeed   \n",
       "4705    N.A.            Office Manager        Indeed   \n",
       "4706    N.A.            Office Manager        Indeed   \n",
       "4707    N.A.            Office Manager        Indeed   \n",
       "\n",
       "                                                    url  company_id  \n",
       "0     https://www.cadremploi.fr/emploi/liste_offres?...         107  \n",
       "1     https://www.cadremploi.fr/emploi/liste_offres?...         107  \n",
       "2     https://www.cadremploi.fr/emploi/liste_offres?...         107  \n",
       "3     https://www.cadremploi.fr/emploi/liste_offres?...           3  \n",
       "4     https://www.cadremploi.fr/emploi/liste_offres?...           3  \n",
       "...                                                 ...         ...  \n",
       "4703  https://fr.indeed.com/jobs?q=Office Manager&l=...         554  \n",
       "4704  https://fr.indeed.com/jobs?q=Office Manager&l=...         427  \n",
       "4705  https://fr.indeed.com/jobs?q=Office Manager&l=...         861  \n",
       "4706  https://fr.indeed.com/jobs?q=Office Manager&l=...         853  \n",
       "4707  https://fr.indeed.com/jobs?q=Office Manager&l=...         524  \n",
       "\n",
       "[4708 rows x 9 columns]"
      ]
     },
     "execution_count": 87,
     "metadata": {},
     "output_type": "execute_result"
    }
   ],
   "source": [
    "df_jobs"
   ]
  },
  {
   "cell_type": "code",
   "execution_count": 4,
   "id": "2c579c7b-47d2-4430-bccf-6dfcd2afba54",
   "metadata": {},
   "outputs": [],
   "source": [
    "DATA_PATH = \"../../data\"\n",
    "df_jobs = pd.read_csv(os.path.join(DATA_PATH, \"jobs_tests.csv\"), sep=\";\", index_col=0)"
   ]
  },
  {
   "cell_type": "code",
   "execution_count": 19,
   "id": "b1c8719d-bca0-4c3c-9b30-10134fb72533",
   "metadata": {},
   "outputs": [],
   "source": [
    "df = df_jobs.groupby([\"company_id\",\"company\", \"source\"]).size().reset_index(name='count')\n",
    "max_count_idx = df.groupby([\"company_id\",\"company\"])['count'].idxmax()\n",
    "\n",
    "# Sélectionnez les lignes correspondantes dans le DataFrame d'origine\n",
    "result_df = df.loc[max_count_idx, ['company_id', 'company', 'source', 'count']]"
   ]
  },
  {
   "cell_type": "code",
   "execution_count": 20,
   "id": "053485d6-9618-4254-870d-72b0f5e44138",
   "metadata": {},
   "outputs": [
    {
     "data": {
      "text/html": [
       "<div>\n",
       "<style scoped>\n",
       "    .dataframe tbody tr th:only-of-type {\n",
       "        vertical-align: middle;\n",
       "    }\n",
       "\n",
       "    .dataframe tbody tr th {\n",
       "        vertical-align: top;\n",
       "    }\n",
       "\n",
       "    .dataframe thead th {\n",
       "        text-align: right;\n",
       "    }\n",
       "</style>\n",
       "<table border=\"1\" class=\"dataframe\">\n",
       "  <thead>\n",
       "    <tr style=\"text-align: right;\">\n",
       "      <th></th>\n",
       "      <th>company_id</th>\n",
       "      <th>company</th>\n",
       "      <th>source</th>\n",
       "      <th>count</th>\n",
       "    </tr>\n",
       "  </thead>\n",
       "  <tbody>\n",
       "    <tr>\n",
       "      <th>2</th>\n",
       "      <td>0</td>\n",
       "      <td>n.a.</td>\n",
       "      <td>Indeed</td>\n",
       "      <td>1733</td>\n",
       "    </tr>\n",
       "    <tr>\n",
       "      <th>3</th>\n",
       "      <td>1</td>\n",
       "      <td>armée de l'air et de l'espace</td>\n",
       "      <td>Cadre Emploi</td>\n",
       "      <td>121</td>\n",
       "    </tr>\n",
       "    <tr>\n",
       "      <th>5</th>\n",
       "      <td>2</td>\n",
       "      <td>iscod</td>\n",
       "      <td>Cadre Emploi</td>\n",
       "      <td>157</td>\n",
       "    </tr>\n",
       "    <tr>\n",
       "      <th>8</th>\n",
       "      <td>3</td>\n",
       "      <td>lhh recruitment solutions</td>\n",
       "      <td>Cadre Emploi</td>\n",
       "      <td>115</td>\n",
       "    </tr>\n",
       "    <tr>\n",
       "      <th>10</th>\n",
       "      <td>4</td>\n",
       "      <td>page personnel</td>\n",
       "      <td>Cadre Emploi</td>\n",
       "      <td>49</td>\n",
       "    </tr>\n",
       "    <tr>\n",
       "      <th>...</th>\n",
       "      <td>...</td>\n",
       "      <td>...</td>\n",
       "      <td>...</td>\n",
       "      <td>...</td>\n",
       "    </tr>\n",
       "    <tr>\n",
       "      <th>1064</th>\n",
       "      <td>1130</td>\n",
       "      <td>green energy service</td>\n",
       "      <td>Indeed</td>\n",
       "      <td>1</td>\n",
       "    </tr>\n",
       "    <tr>\n",
       "      <th>1065</th>\n",
       "      <td>1132</td>\n",
       "      <td>groupama supports et services</td>\n",
       "      <td>Indeed</td>\n",
       "      <td>1</td>\n",
       "    </tr>\n",
       "    <tr>\n",
       "      <th>1066</th>\n",
       "      <td>1133</td>\n",
       "      <td>groupapharm</td>\n",
       "      <td>Indeed</td>\n",
       "      <td>1</td>\n",
       "    </tr>\n",
       "    <tr>\n",
       "      <th>1067</th>\n",
       "      <td>1134</td>\n",
       "      <td>groupe advenis</td>\n",
       "      <td>Hello Work</td>\n",
       "      <td>1</td>\n",
       "    </tr>\n",
       "    <tr>\n",
       "      <th>1068</th>\n",
       "      <td>1135</td>\n",
       "      <td>élivie</td>\n",
       "      <td>Indeed</td>\n",
       "      <td>1</td>\n",
       "    </tr>\n",
       "  </tbody>\n",
       "</table>\n",
       "<p>956 rows × 4 columns</p>\n",
       "</div>"
      ],
      "text/plain": [
       "      company_id                        company        source  count\n",
       "2              0                           n.a.        Indeed   1733\n",
       "3              1  armée de l'air et de l'espace  Cadre Emploi    121\n",
       "5              2                          iscod  Cadre Emploi    157\n",
       "8              3      lhh recruitment solutions  Cadre Emploi    115\n",
       "10             4                 page personnel  Cadre Emploi     49\n",
       "...          ...                            ...           ...    ...\n",
       "1064        1130           green energy service        Indeed      1\n",
       "1065        1132  groupama supports et services        Indeed      1\n",
       "1066        1133                    groupapharm        Indeed      1\n",
       "1067        1134                 groupe advenis    Hello Work      1\n",
       "1068        1135                         élivie        Indeed      1\n",
       "\n",
       "[956 rows x 4 columns]"
      ]
     },
     "execution_count": 20,
     "metadata": {},
     "output_type": "execute_result"
    }
   ],
   "source": [
    "result_df"
   ]
  },
  {
   "cell_type": "code",
   "execution_count": 3,
   "id": "af529550-6948-4a6f-b9ce-7e836c509bb5",
   "metadata": {},
   "outputs": [
    {
     "name": "stdout",
     "output_type": "stream",
     "text": [
      "Paris is in Île-de-France: False\n"
     ]
    }
   ],
   "source": [
    "import requests\n",
    "\n",
    "def is_in_ile_de_france(city):\n",
    "    # Replace 'YOUR_API_KEY' with your actual API key from OpenCage Data.\n",
    "    api_key = 'b9e2eb5b5c324208b39db0f671d74bd7'\n",
    "    \n",
    "    # Define the base URL for the OpenCage Geocoding API\n",
    "    base_url = 'https://api.opencagedata.com/geocode/v1/json'\n",
    "    \n",
    "    # Prepare the request parameters\n",
    "    params = {\n",
    "        'q': city,\n",
    "        'key': api_key,\n",
    "    }\n",
    "    \n",
    "    try:\n",
    "        # Send a request to the API\n",
    "        response = requests.get(base_url, params=params)\n",
    "        data = response.json()\n",
    "        #print(data)\n",
    "        \n",
    "        # Check if the API returned a valid response\n",
    "        if response.status_code == 200 and data.get('results'):\n",
    "            # Get the first result (most relevant) and extract its administrative region\n",
    "            administrative_region = data['results'][0]['components'].get('state')\n",
    "            \n",
    "            # Check if the administrative region is 'Île-de-France'\n",
    "            if administrative_region == 'Île-de-France':\n",
    "                return True\n",
    "    except Exception as e:\n",
    "        print(f\"An error occurred: {e}\")\n",
    "    \n",
    "    return False\n",
    "\n",
    "# Example usage:\n",
    "city_name = \"Paris\"\n",
    "result = is_in_ile_de_france(city_name)\n",
    "print(f\"{city_name} is in Île-de-France: {result}\")\n"
   ]
  },
  {
   "cell_type": "code",
   "execution_count": 7,
   "id": "8474f9df-5ac7-46b0-8779-d8214e34c5c6",
   "metadata": {},
   "outputs": [],
   "source": [
    "from unidecode import unidecode"
   ]
  },
  {
   "cell_type": "code",
   "execution_count": 9,
   "id": "605b57fd-e7d8-43dc-979c-d81f8a6ba428",
   "metadata": {},
   "outputs": [
    {
     "name": "stdout",
     "output_type": "stream",
     "text": [
      "Ceciestunechainedecaracteresavecdescaracteresspeciaux\n"
     ]
    }
   ],
   "source": [
    "import re\n",
    "\n",
    "def supprimer_caracteres_speciaux(chaine):\n",
    "    # Utiliser une expression régulière pour garder seulement les lettres de l'alphabet\n",
    "    chaine = unidecode(chaine)\n",
    "    chaine_propre = re.sub(r'[^a-zA-Z]', '', chaine)\n",
    "    return chaine_propre\n",
    "\n",
    "# Exemple d'utilisation :\n",
    "chaine_originale = \"Ceci est une chaîne de caractères avec des 123 caractères spéciaux !\"\n",
    "chaine_propre = supprimer_caracteres_speciaux(chaine_originale)\n",
    "print(chaine_propre)"
   ]
  },
  {
   "cell_type": "code",
   "execution_count": 13,
   "id": "1926a1e2-bd2b-4315-9c58-916dec3d1378",
   "metadata": {},
   "outputs": [],
   "source": [
    "import dateparser\n",
    "from datetime import datetime\n",
    "def convert_to_days(temp_string: str) -> int:\n",
    "    \"\"\"\n",
    "    Convert a temporal string into a number of days since that date.\n",
    "\n",
    "    Args:\n",
    "        temp_string (str): The temporal string, e.g., \"il y a 3 jours\".\n",
    "\n",
    "    Returns:\n",
    "        int: Number of days since the date represented by temp_string.\n",
    "    \"\"\"\n",
    "    try:\n",
    "        parsed_date = dateparser.parse(temp_string, languages=[\"fr\", \"en\"])\n",
    "        today = datetime.now()\n",
    "        delta = today - parsed_date\n",
    "        return int(delta.days)\n",
    "    except Exception as error:\n",
    "        return -1"
   ]
  },
  {
   "cell_type": "code",
   "execution_count": 19,
   "id": "de21eab8-b486-4a0c-bd0d-fd449ad04b86",
   "metadata": {},
   "outputs": [
    {
     "data": {
      "text/plain": [
       "-1"
      ]
     },
     "execution_count": 19,
     "metadata": {},
     "output_type": "execute_result"
    }
   ],
   "source": [
    "convert_to_days(\"More than 3 days ago\")"
   ]
  },
  {
   "cell_type": "code",
   "execution_count": 1,
   "id": "a242768b-f73d-4108-86c0-505fedc848b6",
   "metadata": {},
   "outputs": [],
   "source": [
    "from ai_leads.model.job_dataset_creation import JobDataFrameCreator"
   ]
  },
  {
   "cell_type": "code",
   "execution_count": 2,
   "id": "aae5dae8-40d8-414d-8afc-a18caa35d979",
   "metadata": {},
   "outputs": [],
   "source": [
    "jobObject = JobDataFrameCreator()"
   ]
  },
  {
   "cell_type": "code",
   "execution_count": 3,
   "id": "67035a44-51c1-4ea0-958f-1ca5e47703d1",
   "metadata": {},
   "outputs": [
    {
     "data": {
      "text/plain": [
       "'30-11-2023'"
      ]
     },
     "execution_count": 3,
     "metadata": {},
     "output_type": "execute_result"
    }
   ],
   "source": [
    "jobObject.convert_to_date(\"il y a 3 jours\")"
   ]
  },
  {
   "cell_type": "code",
   "execution_count": 1,
   "id": "aa8c9c6e-711d-4b4a-be16-7b6ac53ed3d7",
   "metadata": {},
   "outputs": [],
   "source": [
    "import dateparser\n",
    "from datetime import datetime"
   ]
  },
  {
   "cell_type": "code",
   "execution_count": 2,
   "id": "f786de3e-5ff5-4dd8-a9c9-2b380dca155e",
   "metadata": {},
   "outputs": [],
   "source": [
    "parsed_date = dateparser.parse(\"il y a 3 jours\", languages=[\"fr\", \"en\"])"
   ]
  },
  {
   "cell_type": "code",
   "execution_count": 3,
   "id": "d3cf8d22-bf84-46e0-8e3e-1327cf12d2cb",
   "metadata": {},
   "outputs": [],
   "source": [
    "parsed_date = dateparser.parse(\"il y a 3 jours\", languages=[\"fr\", \"en\"])\n",
    "today = datetime.now()\n",
    "delta = today - parsed_date"
   ]
  },
  {
   "cell_type": "code",
   "execution_count": 4,
   "id": "e8578a11-e2b0-40b2-b5a7-bc5078bc929b",
   "metadata": {},
   "outputs": [
    {
     "data": {
      "text/plain": [
       "datetime.timedelta(days=3, microseconds=406)"
      ]
     },
     "execution_count": 4,
     "metadata": {},
     "output_type": "execute_result"
    }
   ],
   "source": [
    "delta"
   ]
  },
  {
   "cell_type": "code",
   "execution_count": 5,
   "id": "c5e3758a-dbc0-4bb1-88d9-c014d79fe8a9",
   "metadata": {},
   "outputs": [
    {
     "data": {
      "text/plain": [
       "datetime.datetime(2024, 1, 11, 18, 56, 40, 430439)"
      ]
     },
     "execution_count": 5,
     "metadata": {},
     "output_type": "execute_result"
    }
   ],
   "source": [
    "BASE_DATE = datetime.today()\n",
    "BASE_DATE - delta"
   ]
  },
  {
   "cell_type": "code",
   "execution_count": 3,
   "id": "6e27239f-a4de-4e17-9779-d9923da9daaf",
   "metadata": {},
   "outputs": [],
   "source": [
    "from ai_leads.Config.param import DATA_RECRUITING_PATH, DATA_NON_RECRUITING_PATH, JOB_FILE_PATH"
   ]
  },
  {
   "cell_type": "code",
   "execution_count": 12,
   "id": "3e0c0841-5340-47cc-acf6-83b08ae61dc9",
   "metadata": {},
   "outputs": [
    {
     "name": "stdout",
     "output_type": "stream",
     "text": [
      "/Users/raphaeladda/Desktop/Perso/AI-leads\n"
     ]
    }
   ],
   "source": [
    "cd .."
   ]
  },
  {
   "cell_type": "code",
   "execution_count": 14,
   "id": "2ef69676-85f6-4380-ace4-f17b567d66fc",
   "metadata": {},
   "outputs": [],
   "source": [
    "df = pd.read_csv(\"data/jobs_tests.csv\", sep = \";\", index_col = 0)"
   ]
  },
  {
   "cell_type": "code",
   "execution_count": 16,
   "id": "96d99d8b-9e68-4fcc-b6fc-267a199bc9b0",
   "metadata": {},
   "outputs": [],
   "source": [
    "df.company = df.company.apply(lambda x: str(x).lower().strip())"
   ]
  },
  {
   "cell_type": "code",
   "execution_count": 20,
   "id": "db75b4bf-43a9-4fe6-8ff8-6eba8a95921b",
   "metadata": {},
   "outputs": [],
   "source": [
    "with open(DATA_NON_RECRUITING_PATH, \"r\") as file:\n",
    "    non_recruiting_company_list = file.readlines()\n",
    "non_recruiting_company_list = [company[:-1] for company in non_recruiting_company_list]"
   ]
  },
  {
   "cell_type": "code",
   "execution_count": 21,
   "id": "34fb12b1-1a73-4e99-8b76-1da0061fb93f",
   "metadata": {},
   "outputs": [],
   "source": [
    "df[\"rcc\"] = df.company.apply(lambda x: x not in non_recruiting_company_list)"
   ]
  },
  {
   "cell_type": "code",
   "execution_count": 26,
   "id": "f8bee41e-3615-47f8-86cf-89678bd04850",
   "metadata": {},
   "outputs": [],
   "source": [
    "rcc_list = list(df[df[\"rcc\"]].company.unique())"
   ]
  },
  {
   "cell_type": "code",
   "execution_count": null,
   "id": "843fc2b5-02b3-4ec1-886e-edee5f6d0c7f",
   "metadata": {},
   "outputs": [],
   "source": [
    "# Liste d'éléments\n",
    "\n",
    "nom_fichier = \"list_recruiting_company.txt\"\n",
    "\n",
    "# Écriture de la liste dans le fichier texte\n",
    "with open(nom_fichier, \"w\") as fichier:\n",
    "    for element in rcc_list:\n",
    "        fichier.write(element + \"\\n\")\n",
    "\n",
    "print(f\"La liste a été enregistrée dans le fichier '{nom_fichier}'.\")\n"
   ]
  },
  {
   "cell_type": "code",
   "execution_count": 6,
   "id": "ccffe63f-1711-42e4-8edb-1fe5d3cfb22c",
   "metadata": {},
   "outputs": [],
   "source": [
    "df = pd.read_csv(\"../../data/donnees_communes.csv\", sep = \";\", index_col = 0)"
   ]
  },
  {
   "cell_type": "code",
   "execution_count": 9,
   "id": "926b8b29-5894-4285-b5fe-836bea234676",
   "metadata": {},
   "outputs": [],
   "source": [
    "df = df[[\"REG\", \"COM\"]]"
   ]
  },
  {
   "cell_type": "code",
   "execution_count": 18,
   "id": "d6fc66dc-3360-4d3d-a621-bb5c781b8dc1",
   "metadata": {},
   "outputs": [],
   "source": [
    "df = df[df[\"REG\"] == \"Île-de-France\"]"
   ]
  },
  {
   "cell_type": "code",
   "execution_count": 14,
   "id": "ab161467-6836-4b96-bbed-8df68e075412",
   "metadata": {},
   "outputs": [
    {
     "data": {
      "text/plain": [
       "array(['Auvergne-Rhône-Alpes', 'Hauts-de-France',\n",
       "       \"Provence-Alpes-Côte d'Azur\", 'Grand Est', 'Occitanie',\n",
       "       'Normandie', 'Nouvelle-Aquitaine', 'Centre-Val de Loire',\n",
       "       'Bourgogne-Franche-Comté', 'Bretagne', 'Corse', 'Pays de la Loire',\n",
       "       'Île-de-France', 'Guadeloupe', 'Martinique', 'Guyane',\n",
       "       'La Réunion'], dtype=object)"
      ]
     },
     "execution_count": 14,
     "metadata": {},
     "output_type": "execute_result"
    }
   ],
   "source": [
    "df.REG.unique()"
   ]
  },
  {
   "cell_type": "code",
   "execution_count": 23,
   "id": "44955527-2db9-4dae-9369-0c56c1175f5f",
   "metadata": {},
   "outputs": [],
   "source": [
    "import re\n",
    "from unidecode import unidecode\n",
    "\n",
    "def clean_str(string: str) -> str:\n",
    "    # Utiliser une expression régulière pour garder seulement les lettres de l'alphabet\n",
    "    clean_string = re.sub(r\"[^a-zA-Z]\", \"\", unidecode(string))\n",
    "    return clean_string.lower()"
   ]
  },
  {
   "cell_type": "code",
   "execution_count": 28,
   "id": "a837c76d-488e-4fee-9d47-2f55311566ee",
   "metadata": {},
   "outputs": [],
   "source": [
    "idf_city_list = list(df[\"COM\"].apply(clean_str).unique())\n",
    "idf_city_list.append(\"paris\")"
   ]
  },
  {
   "cell_type": "code",
   "execution_count": 29,
   "id": "198daa14-aa07-4124-9a10-17283ece6ec3",
   "metadata": {},
   "outputs": [
    {
     "name": "stdout",
     "output_type": "stream",
     "text": [
      "La liste a été enregistrée dans le fichier 'list_city_idf.txt'.\n"
     ]
    }
   ],
   "source": [
    "# Liste d'éléments\n",
    "\n",
    "nom_fichier = \"list_city_idf.txt\"\n",
    "\n",
    "# Écriture de la liste dans le fichier texte\n",
    "with open(nom_fichier, \"w\") as fichier:\n",
    "    for element in idf_city_list:\n",
    "        fichier.write(element + \"\\n\")\n",
    "\n",
    "print(f\"La liste a été enregistrée dans le fichier '{nom_fichier}'.\")\n"
   ]
  },
  {
   "cell_type": "markdown",
   "id": "ba924222-4cff-4b2e-a19c-4e4d6b877076",
   "metadata": {},
   "source": [
    "## Test Linkedin Google "
   ]
  },
  {
   "cell_type": "code",
   "execution_count": 1,
   "id": "e5f8bd79-03ef-43ea-8880-cd3cfd233456",
   "metadata": {},
   "outputs": [],
   "source": [
    "from ai_leads.model.navigator import WebpageScraper\n",
    "from ai_leads.model.linkedin_contact import LinkedInContactRetriever"
   ]
  },
  {
   "cell_type": "code",
   "execution_count": 2,
   "id": "500b1807-4359-4065-bebb-e8cf57ad562c",
   "metadata": {},
   "outputs": [],
   "source": [
    "scrapper_object = WebpageScraper()"
   ]
  },
  {
   "cell_type": "code",
   "execution_count": 3,
   "id": "575a02dd-6f30-4438-be12-293d4c325a89",
   "metadata": {},
   "outputs": [],
   "source": [
    "def format_query(company: str) -> str:\n",
    "    \"\"\"\n",
    "    Generates a query able to find relevant linkedin profiles for a company\n",
    "\n",
    "    Args:\n",
    "        company (str): name of the company\n",
    "\n",
    "    Returns:\n",
    "        str: correct query format\n",
    "    \"\"\"\n",
    "    query = f'\"{company}\" responsable ressources humaines profile site:fr.linkedin.com/in/'\n",
    "    return query\n",
    "    \n",
    "def find_relevant_profiles(company: str):\n",
    "    \"\"\"\n",
    "    Generate a list of url that are potentially relevant linkedin profiles for a company\n",
    "\n",
    "    Args:\n",
    "        company (str): name of the company\n",
    "\n",
    "    Returns:\n",
    "        List: list of relevant urls\n",
    "    \"\"\"\n",
    "    scraper = scrapper_object\n",
    "    query = format_query(company)\n",
    "    print(query)\n",
    "    url_list = scraper.get_raw_google_links(query)\n",
    "    #url_list = [url for url in url_list if self.check_if_profile(url)]\n",
    "    # url_list = url_list + [np.nan] * (2 - len(url_list))\n",
    "    return url_list"
   ]
  },
  {
   "cell_type": "code",
   "execution_count": 4,
   "id": "1b292eed-3e76-43d9-9261-247ab267b052",
   "metadata": {},
   "outputs": [],
   "source": [
    "linkedin_retriever = LinkedInContactRetriever()"
   ]
  },
  {
   "cell_type": "code",
   "execution_count": 5,
   "id": "ad1293b0-563e-4a4c-8f70-cede2b76c42f",
   "metadata": {},
   "outputs": [
    {
     "data": {
      "text/plain": [
       "['https://fr.linkedin.com/in/estelle-moudenc-aa438750',\n",
       " 'https://fr.linkedin.com/in/emmanu%C3%A8le-beaufils-5981aa98']"
      ]
     },
     "execution_count": 5,
     "metadata": {},
     "output_type": "execute_result"
    }
   ],
   "source": [
    "linkedin_retriever.find_relevant_profiles(\"Chanel\")"
   ]
  },
  {
   "cell_type": "code",
   "execution_count": 4,
   "id": "5bc73055-6ca0-44df-a7af-66a245c02527",
   "metadata": {},
   "outputs": [
    {
     "data": {
      "text/html": [
       "<div>\n",
       "<style scoped>\n",
       "    .dataframe tbody tr th:only-of-type {\n",
       "        vertical-align: middle;\n",
       "    }\n",
       "\n",
       "    .dataframe tbody tr th {\n",
       "        vertical-align: top;\n",
       "    }\n",
       "\n",
       "    .dataframe thead th {\n",
       "        text-align: right;\n",
       "    }\n",
       "</style>\n",
       "<table border=\"1\" class=\"dataframe\">\n",
       "  <thead>\n",
       "    <tr style=\"text-align: right;\">\n",
       "      <th></th>\n",
       "      <th>company</th>\n",
       "      <th>Contacté</th>\n",
       "      <th>Notes</th>\n",
       "      <th>website_url</th>\n",
       "      <th>activity_sector</th>\n",
       "    </tr>\n",
       "  </thead>\n",
       "  <tbody>\n",
       "    <tr>\n",
       "      <th>6</th>\n",
       "      <td>grant thornton france</td>\n",
       "      <td>Non</td>\n",
       "      <td>NaN</td>\n",
       "      <td>https://www.grantthornton.fr/fr/</td>\n",
       "      <td>Other</td>\n",
       "    </tr>\n",
       "    <tr>\n",
       "      <th>7</th>\n",
       "      <td>groupe kering</td>\n",
       "      <td>Non</td>\n",
       "      <td>NaN</td>\n",
       "      <td>https://www.kering.com/fr/groupe/</td>\n",
       "      <td>Other</td>\n",
       "    </tr>\n",
       "    <tr>\n",
       "      <th>8</th>\n",
       "      <td>institut f2i</td>\n",
       "      <td>Non</td>\n",
       "      <td>NaN</td>\n",
       "      <td>https://www.institut-f2i.fr/</td>\n",
       "      <td>Recruitment</td>\n",
       "    </tr>\n",
       "    <tr>\n",
       "      <th>9</th>\n",
       "      <td>groupe igf</td>\n",
       "      <td>Non</td>\n",
       "      <td>NaN</td>\n",
       "      <td>https://www.groupeigf.com/</td>\n",
       "      <td>Formation/Education</td>\n",
       "    </tr>\n",
       "    <tr>\n",
       "      <th>10</th>\n",
       "      <td>louis vuitton</td>\n",
       "      <td>Non</td>\n",
       "      <td>NaN</td>\n",
       "      <td>https://fr.louisvuitton.com/fra-fr/homepage</td>\n",
       "      <td>Other</td>\n",
       "    </tr>\n",
       "    <tr>\n",
       "      <th>11</th>\n",
       "      <td>Armand Thiery</td>\n",
       "      <td>NaN</td>\n",
       "      <td>NaN</td>\n",
       "      <td>https://www.armandthiery.fr/</td>\n",
       "      <td>Other</td>\n",
       "    </tr>\n",
       "  </tbody>\n",
       "</table>\n",
       "</div>"
      ],
      "text/plain": [
       "                  company Contacté  Notes  \\\n",
       "6   grant thornton france      Non    NaN   \n",
       "7           groupe kering      Non    NaN   \n",
       "8            institut f2i      Non    NaN   \n",
       "9              groupe igf      Non    NaN   \n",
       "10          louis vuitton      Non    NaN   \n",
       "11          Armand Thiery      NaN    NaN   \n",
       "\n",
       "                                    website_url      activity_sector  \n",
       "6              https://www.grantthornton.fr/fr/                Other  \n",
       "7             https://www.kering.com/fr/groupe/                Other  \n",
       "8                  https://www.institut-f2i.fr/          Recruitment  \n",
       "9                    https://www.groupeigf.com/  Formation/Education  \n",
       "10  https://fr.louisvuitton.com/fra-fr/homepage                Other  \n",
       "11                 https://www.armandthiery.fr/                Other  "
      ]
     },
     "execution_count": 4,
     "metadata": {},
     "output_type": "execute_result"
    }
   ],
   "source": [
    "import logging\n",
    "import pandas as pd\n",
    "from ai_leads.Config.param import COMPANY_FILE_PATH\n",
    "from ai_leads.model.linkedin_contact import LinkedInContactRetriever\n",
    "from ai_leads import utils\n",
    "\n",
    "# Setup logging\n",
    "logging.basicConfig(level=logging.INFO)\n",
    "logger = logging.getLogger(__name__)\n",
    "\n",
    "df_company_list = pd.read_csv(\"../../data/table_companies_test.csv\", sep=\";\").iloc[6:12]\n",
    "df_company_list[\"company\"].apply(LinkedInContactRetriever().find_relevant_profiles)"
   ]
  },
  {
   "cell_type": "code",
   "execution_count": 7,
   "id": "4898b1aa-7df7-4a31-aafb-523eeca5684e",
   "metadata": {},
   "outputs": [],
   "source": [
    "import numpy as np\n",
    "df_company_list = pd.DataFrame().assign(a=np.nan, b=np.nan)"
   ]
  },
  {
   "cell_type": "code",
   "execution_count": 8,
   "id": "ef3fb8c1-abb1-425f-85e3-3b00c2481ec9",
   "metadata": {},
   "outputs": [
    {
     "data": {
      "text/html": [
       "<div>\n",
       "<style scoped>\n",
       "    .dataframe tbody tr th:only-of-type {\n",
       "        vertical-align: middle;\n",
       "    }\n",
       "\n",
       "    .dataframe tbody tr th {\n",
       "        vertical-align: top;\n",
       "    }\n",
       "\n",
       "    .dataframe thead th {\n",
       "        text-align: right;\n",
       "    }\n",
       "</style>\n",
       "<table border=\"1\" class=\"dataframe\">\n",
       "  <thead>\n",
       "    <tr style=\"text-align: right;\">\n",
       "      <th></th>\n",
       "      <th>a</th>\n",
       "      <th>b</th>\n",
       "    </tr>\n",
       "  </thead>\n",
       "  <tbody>\n",
       "  </tbody>\n",
       "</table>\n",
       "</div>"
      ],
      "text/plain": [
       "Empty DataFrame\n",
       "Columns: [a, b]\n",
       "Index: []"
      ]
     },
     "execution_count": 8,
     "metadata": {},
     "output_type": "execute_result"
    }
   ],
   "source": [
    "df_company_list"
   ]
  },
  {
   "cell_type": "markdown",
   "id": "abb8b409-df69-45c4-b949-c37e72039b44",
   "metadata": {},
   "source": [
    "## Test LinkedIn Lib"
   ]
  },
  {
   "cell_type": "code",
   "execution_count": 14,
   "id": "d53212f0-9d5e-4f17-ac49-17e7b150492b",
   "metadata": {},
   "outputs": [
    {
     "name": "stdout",
     "output_type": "stream",
     "text": [
      "you are not logged in!\n"
     ]
    }
   ],
   "source": [
    "from linkedin_scraper import Person, actions\n",
    "from selenium import webdriver\n",
    "driver = webdriver.Chrome()\n",
    "\n",
    "email = \"raphaeladda@live.fr\"\n",
    "password = \"Lmessi21!\"\n",
    "actions.login(driver, email, password) # if email and password isnt given, it'll prompt in terminal\n",
    "person = Person(\"https://www.linkedin.com/in/andre-iguodala-65b48ab5\")"
   ]
  },
  {
   "cell_type": "markdown",
   "id": "fa01a13a-eb9b-4ca4-9585-72175f19a9b4",
   "metadata": {},
   "source": [
    "Not good library"
   ]
  },
  {
   "cell_type": "markdown",
   "id": "47f7bb4e-2016-4547-994b-15e55e099200",
   "metadata": {},
   "source": [
    "## Test new parser"
   ]
  },
  {
   "cell_type": "code",
   "execution_count": 4,
   "id": "508f588d-8ea3-425a-83df-aeca7ed46eea",
   "metadata": {},
   "outputs": [],
   "source": [
    "from ai_leads.Config.param import template_find_activity, enum_parser_activity\n",
    "from ai_leads.model.llm_model import LLMManager"
   ]
  },
  {
   "cell_type": "code",
   "execution_count": 2,
   "id": "232705fb-2909-4388-816b-e7cf1251eeb2",
   "metadata": {},
   "outputs": [],
   "source": [
    "llm_manager = LLMManager()"
   ]
  },
  {
   "cell_type": "code",
   "execution_count": 10,
   "id": "f71a24fd-fba7-4ce2-be85-e75f16b6f0b2",
   "metadata": {},
   "outputs": [],
   "source": [
    "output_parser = enum_parser_activity\n",
    "format_instructions = output_parser.get_format_instructions()\n",
    "html_raw_code = \"Iscod est agence d'interim\"\n",
    "prompt = llm_manager.prepare_prompt(\n",
    "                template_find_activity,\n",
    "                input_vars=[\"html_raw_code\"],\n",
    "                partial_vars={\"format_instructions\": format_instructions},\n",
    "            )\n",
    "response = llm_manager.run_llm_chain(prompt, html_raw_code=html_raw_code)"
   ]
  },
  {
   "cell_type": "code",
   "execution_count": 11,
   "id": "b513fbb8-6888-4c63-8b2f-51666a705be6",
   "metadata": {},
   "outputs": [
    {
     "data": {
      "text/plain": [
       "<CompanyActivity.RECRUITING: 'Recruitment'>"
      ]
     },
     "execution_count": 11,
     "metadata": {},
     "output_type": "execute_result"
    }
   ],
   "source": [
    "output_parser.parse(response)"
   ]
  },
  {
   "cell_type": "code",
   "execution_count": 5,
   "id": "ea39fb8c-43ef-488b-b362-221d0c39019f",
   "metadata": {},
   "outputs": [],
   "source": [
    "from enum import Enum\n",
    "from langchain.output_parsers.enum import EnumOutputParser\n",
    "from langchain.chat_models import ChatOpenAI\n",
    "\n",
    "class Colors(Enum):\n",
    "    RED = \"red\"\n",
    "    GREEN = \"green\"\n",
    "    BLUE = \"blue\"\n",
    "\n",
    "parser = EnumOutputParser(enum=Colors)\n",
    "\n",
    "from langchain.prompts import PromptTemplate\n",
    "\n",
    "prompt = PromptTemplate.from_template(\n",
    "    \"\"\"What color eyes does this person have?\n",
    "\n",
    "> Person: {person}\n",
    "\n",
    "Instructions: {instructions}\"\"\"\n",
    ").partial(instructions=parser.get_format_instructions())\n",
    "chain = prompt | ChatOpenAI() | parser"
   ]
  },
  {
   "cell_type": "code",
   "execution_count": 6,
   "id": "b403c957-7017-4c01-ac65-92c5e179a0dd",
   "metadata": {},
   "outputs": [],
   "source": [
    "res = chain.invoke({\"person\": \"Frank Sinatra\"})"
   ]
  },
  {
   "cell_type": "code",
   "execution_count": 1,
   "id": "955e5ff7-4731-4728-b168-ca714815f571",
   "metadata": {},
   "outputs": [],
   "source": [
    "from ai_leads.model.lead_dataset_creation import LeadDataFrameConverter"
   ]
  },
  {
   "cell_type": "code",
   "execution_count": 2,
   "id": "7072f10b-0c43-42bf-8ba8-848f0d755cad",
   "metadata": {},
   "outputs": [],
   "source": [
    "import pandas as pd\n",
    "leadConverter = LeadDataFrameConverter(pd.DataFrame())"
   ]
  },
  {
   "cell_type": "code",
   "execution_count": 10,
   "id": "11feaee1-e2d6-46a5-8864-439870d06539",
   "metadata": {},
   "outputs": [
    {
     "data": {
      "text/plain": [
       "'Recruitment'"
      ]
     },
     "execution_count": 10,
     "metadata": {},
     "output_type": "execute_result"
    }
   ],
   "source": [
    "leadConverter.determine_activity_sector(\"robert walters lyon manufacturing et supply chain\")"
   ]
  },
  {
   "cell_type": "code",
   "execution_count": 3,
   "id": "cf10f97b-ec15-4de2-abbb-3b9f69df0ae5",
   "metadata": {},
   "outputs": [
    {
     "data": {
      "text/plain": [
       "True"
      ]
     },
     "execution_count": 3,
     "metadata": {},
     "output_type": "execute_result"
    }
   ],
   "source": [
    "leadConverter.verif_recruitment(\"uptoo\")"
   ]
  },
  {
   "cell_type": "code",
   "execution_count": 5,
   "id": "b2ad06fa-6fca-4ab2-8170-8650ed936271",
   "metadata": {},
   "outputs": [
    {
     "data": {
      "text/plain": [
       "'Recruitment'"
      ]
     },
     "execution_count": 5,
     "metadata": {},
     "output_type": "execute_result"
    }
   ],
   "source": [
    "\"Recruitment\""
   ]
  },
  {
   "cell_type": "code",
   "execution_count": 1,
   "id": "d17e1a74-3fd9-4271-832d-77c355fcca40",
   "metadata": {},
   "outputs": [],
   "source": [
    "from ai_leads.model.job_dataset_creation import JobDataFrameCreator"
   ]
  },
  {
   "cell_type": "code",
   "execution_count": 7,
   "id": "ee57c48d-7af3-45b2-ad43-be36142b0759",
   "metadata": {},
   "outputs": [
    {
     "name": "stdout",
     "output_type": "stream",
     "text": [
      "01-02-2024\n"
     ]
    },
    {
     "data": {
      "text/plain": [
       "'01-02-2024'"
      ]
     },
     "execution_count": 7,
     "metadata": {},
     "output_type": "execute_result"
    }
   ],
   "source": [
    "JobDataFrameCreator().convert_to_date(\"il y a 24 heures\")"
   ]
  },
  {
   "cell_type": "code",
   "execution_count": 7,
   "id": "145d5001-21fc-484e-9b4e-e048638b05cb",
   "metadata": {},
   "outputs": [
    {
     "name": "stdout",
     "output_type": "stream",
     "text": [
      "{'first_name': 'veronique', 'last_name': 'couturier'}\n"
     ]
    }
   ],
   "source": [
    "import re\n",
    "import urllib.parse\n",
    "\n",
    "# Define the LinkedIn URL\n",
    "url = \"https://fr.linkedin.com/in/veronique-couturier-a49b15121\"\n",
    "\n",
    "# Decode the URL to handle special characters\n",
    "decoded_url = urllib.parse.unquote(url)\n",
    "\n",
    "# Extract the first and last name using regular expressions\n",
    "match = re.search(r'/in/([^/]+)-([^/]+)-\\w+', decoded_url)\n",
    "\n",
    "if match:\n",
    "    first_name = match.group(1)\n",
    "    last_name = match.group(2)\n",
    "else:\n",
    "    first_name = \"\"\n",
    "    last_name = \"\"\n",
    "\n",
    "# Create a dictionary with the extracted names\n",
    "name_dict = {\n",
    "    \"first_name\": first_name,\n",
    "    \"last_name\": last_name\n",
    "}\n",
    "\n",
    "# Print the result\n",
    "print(name_dict)\n"
   ]
  },
  {
   "cell_type": "code",
   "execution_count": 4,
   "id": "e6d60dfd-235e-476b-9315-77df054c91bd",
   "metadata": {},
   "outputs": [],
   "source": [
    "match"
   ]
  },
  {
   "cell_type": "code",
   "execution_count": 20,
   "id": "71a7c787-045a-44c1-8a69-097a7d28fcb3",
   "metadata": {},
   "outputs": [],
   "source": [
    "from googlesearch import search\n",
    "query = search(\"Google\", lang=\"fr\", num_results = 2)"
   ]
  },
  {
   "cell_type": "code",
   "execution_count": 1,
   "id": "9377043e-5b50-4e00-a2b3-6542b473d436",
   "metadata": {},
   "outputs": [],
   "source": [
    "from ai_leads.model.navigator import WebpageScraper"
   ]
  },
  {
   "cell_type": "code",
   "execution_count": 3,
   "id": "e0b426ca-3ba3-4a0d-ac38-cd43d04f8f10",
   "metadata": {},
   "outputs": [],
   "source": [
    "text = WebpageScraper().fetch_readable_text(\"https://www.cadremploi.fr/emploi/liste_offres?motscles=Acheteur&ville=Paris\")"
   ]
  },
  {
   "cell_type": "code",
   "execution_count": 4,
   "id": "0d87da80-bfa6-44df-bcd4-6b6bc05b5b12",
   "metadata": {},
   "outputs": [
    {
     "data": {
      "text/plain": [
       "\"Offres d'emploi Acheteur - Février 2024 - Cadremploi.fr Me connecter Offres d'emploi Les entreprises qui recrutent Les cabinets de recrutement Toutes les offres d'emploi Offres de stages Offres d'emploi jeunes diplomés Missions en freelance Actualité S'informer sur l'emploi des cadres Les dernières actualités Par secteur et par région L'édito de la semaine La Playlist Cadremploi Regarder nos émissions Conseils Mieux vivre son job Gérer ma carrière Savoir parler salaire Connaître ses droits au travail Travailler à l'international Podcasts Coronavirus et travail Chercher ailleurs Rédiger son CV Assurer sa lettre de motivation Préparer son entretien d'embauche Postuler au bon moment Se lancer dans l'entrepreneuriat Se former Améliorer son management Découvrir les formations par secteur Choisir le bon dispositif CPF et VAE Choisir un MBA / MS / Masters Développer ses compétences linguistiques Trouver mon premier job Fiches métiers Dépôt de CV Créer un CV Espace recruteur Inscription Connexion Connectez-vous sur Cadremploi Je continue avec ou me connecter avec mon email Rester connecté(e) Mot de passe oublié ? Je me connecte Vous n'avez pas de compte ? Inscrivez-vous Ma recherche Acheteur • Paris Élargir ma recherche Rechercher Fonction Etudes - RechercheDirection R & DDirection ScientifiqueBrevets - MarquesChef de Projet - IngénierieEtudes - Bureau d'EtudesIngénieur R & D - ChercheurRecherche - LaboratoireStatistiquesCommunication - CréationDirection de la communicationDirection ClientèleChef de PublicitéCommunication internePresseCommunication ExterneDirection ArtistiqueDirection CréationConception - RédactionCréation - Graphisme - PAOJournalismeRelations Presse - Relations PubliquesTraduction - InterprétariatGestion - Comptabilité - FinanceDAF - Directeur FinancierDirecteur Comptable - Expert ComptableAnalyse FinancièreComptableConsolidationContrôleur de Gestion - Contrôleur interne ou généralCredit managementOrganisation comptableTrésorier - Analyste Crédit - Risk ManagerCambiste - Trader - FrontCadre BancaireFiscaliste - Gestion patrimonialeMiddle - Back OfficeLogistique - Achat - Stock - TransportDirection Logistique - TransportDirection AchatsAchats - ApprovisionnementsGestion de stocks - MagasinsLogisticienOrdonnancement - PlanningOrganisation IndustrielleAuditAudit ExterneAudit InterneSystèmes d'informations - TélécomDirection Systèmes d'informations - TélécomChef de Projet - MOEConsultant - Audit - AMOAAnalyste ProgrammeurExploitation - ProductionSystème - Réseaux - Base de DonnéesService utilisateurs - HotlinerIngénieur Avant venteIngénieur Etudes - DéveloppementArchitecture - UrbanismeDirecteur de Projet - MOAIngénieur TélécomQualité - MéthodesSécuritéDirection générale - Direction centre de profitsP.D.G.D.G. - D.G.A.Direction Filiale - Centre de ProfitsSecrétaire GénéralConseilConseil en Droit - FiscalitéConseil en FinancesConseil en Management - StratégieConseil en Marketing - Commercial - CommunicationConseil aux PME - PMIConseil en RHConseil en Stratégie NTIC - Nouvelle économieConseil en Système d'Information - OrganisationInternet - e-CommerceDirection Internet - e-CommerceContenus - PartenariatsWebmaster - WebdesignRéférencement - Traffic ManagementWebplannerCommercial - VenteDirection commerciale - Dvlpt - StratégieDirection des ventes - Chef des ventesAdministration des ventesAssistanat CommercialChef d'agence - Resp. magasinChef de rayon - Chef de SecteurCommercialGrands-ComptesIngénieur d'affairesTéléventeIngénieur commercialTechnico-commercialCommercial - Ingénieur Technico-CommercialVenteAdministration - Services générauxDocumentalisteSecrétaire - Assistante de DirectionServices GénérauxSanté (Médical) - SocialMédecin du travailDirection d'établissementActivités socialesInfirmier - InfirmièreDentisteMédecin - Chirurgien généralisteMédecin - Chirurgien spécialisteParamédical de soinParamédicale de rééducationParamédical médico-techniquePharmacienSage-femmeVétérinaire - soins animaliersAutresSanté (Industrie)Affaires RéglementairesMédico-MarketingInformation Médicale - Formation - PharmacovigilanceDirection Santé (Industrie)Recherche & Développement cliniquePrix - Remboursement - EconomieQualitéAutresMarketingDirection MarketingChef de Groupe - MarchéChef de ProduitMarketing DirectMarketing EtudesMarketing opérationnel - Promo ventesRelation clients - Consommateurs - SAVJuridique FiscalDirection JuridiqueCadres Juridiques toutes spécialitésConseil Juridique - AvocatFiscalisteServices ContentieuxExpertiseRessources Humaines - Personnel - FormationDRHRRH - Chef du personnelFormationGestion de carrièresGestion du personnel - PaieRecrutementRelations socialesRémunérationProduction - Maintenance - Qualité - Sécurité - EnvironnementDirection d'UsineDirection IndustrielleDirection ProductionDirection TechniqueChef de Fabrication - ProductionContrôle - Assurance QualitéEnvironnement - SécuritéGestion de ProductionMaintenance - EntretienMéthodes - Process - IndustrialisationProductionS.A.V.Travaux Neufs - ChantiersExportDirection Export - Dir. internationaleArea managerChef de zone export Contrat CDICDDFranchisesIndépendant / FreelanceStatutaireStageApprentissage/Alternance Salaire Salaire minimum 0K€ 0 K€ 200 K€ Salaire minimum Indifférent 10 20 30 40 50 60 70 80 90 100 110 120 130 140 150 160 170 180 190 200 K€ Secteur Banque - Assurance - FinanceBanque - Etablissement financier - Crédit Bail ...BourseCapital RisqueCompagnie Assurance - CourtierConstruction BTPGros oeuvreGénie Civil - TPMaisons individuellesProduction matériaux constructionSecond oeuvreSociété immobilière - PromoteurDistributionAutomobile - MotoBricolage - Jardin - Décoration - AmeublementCentrale d'achatsCommerce alimentaireDisques - LivresHabillement - Produit Luxe - Mode - SportHiFi - Vidéo - Informatique - Micro - Telecom...Hyper - Super - Grand MagasinImport - ExportNégoce - Commerce gros industrielV.P.C.ImmobilierHabitation - Gestion locativePromoteurSCPI (Société Civile de Placement Immobilier)Société immobilièreIndustriesAgricultureAgroalimentaireArmementArt de la table - DécorationAuto-Moto-CyclesAéronautique - SpatialBiens d'équipement de la maisonBureautiqueChimie - ParachimieConstruction NavaleCosmétique - Parfumerie - Produit d'hygièneDisque - Ciné - Vidéo - Radio - Photo - TVEau - Gaz - Electricité - ChauffageEdition - ImprimerieElectricitéElectromécaniqueElectroménagerElectroniqueEmballageEnergie NucléaireEnvironnementEquipement industrielEquipementier auto-moto-cyclesExtraction - MinesFerroviaireHorlogerie - Joaillerie - BijouterieInstrumentationMatériel Médical - DiagnosticMatériel d'éclairageMeuble - Travail du BoisMécanique - Machine OutilMétallurgieOptiquePapier - CartonPeinture - EncrePharmacie - Parapharmacie - BiotechnologiePlasturgie - Plastique - CompositePresseProduits d'entretien - DétergentsProduits de Loisir - Jouets - JeuxPétrole (production - distribution)RobotiqueSidérurgieTabacTextile - Habillement - ChaussureVerre - CéramiqueInformatique - Télécom - InternetConseil - AuditConstructeurEditeur de logicielsInternetOpérateur - Infogérance - Hébergeur - FAIServices InformatiquesServicesAgence pub - Marketing Direct - CommunicationAssociationAutres Services aux ParticuliersAutres Services aux collectivités - EntreprisesCabinet Comptable - AuditConseil Juridique - Cabinet d'avocatsConseil aux entreprisesHôtellerie - RestaurationIngénierie - Bureau d'EtudesIntérimLocation Véhicules - DiverseLoisirs - Culture - CinémaMaintenance industrielleNettoyage industriel - SécuritéRechercheSalons - Congrès - ManifestationsServices santé - CliniquesTourisme - VoyagesTransports - Messagerie ExpressServices publics - AdministrationsAdministrations - InstitutionsAffaires culturellesAffaires étrangères - InternationalArmée - Défense - SécuritéAutresCollectivités locales - TerritorialesDroit - JusticeDévelop.t économique - Commerce - Organisme ConsulaireEconomie - FinancesEnseignement - Animation - RechercheEnvironnement - AgricultureIndustries - EnergiesInformatique - TélécommunicationsPolitique de la ville - LogementRestauration collectiveServices TechniquesServices santé - Action socialeSport - Loisirs - Tourisme Filtrer la recherche Modifier les filtres Effacer les filtres Alerte activée ! Activer l'alerte Rechercher Ma recherche : Acheteur • Paris Alerte activée ! Activer l'alerte 1 575 offres d'emploi Acheteur Tri par pertinence Tri par date Acheteur public h/f Armée de l'Air et de l'Espace Paris CDD Devenir acheteur public au sein de l'armée de l'Air et de l'Espace, c'est travailler sur des projets contribuant à la vie et aux missions d'une base aérienne ou des grands commandements. Vos missions sont susceptibles de varier en fonction de votre affectation. Affect... Publiée il y a moins de 24h Envoyé Ré-essayer ? Voir l'annonce Acheteur Industrie H/F Fichet Group Strasbourg CDI Dans le cadre de son développement, Fichet Technologies, filiale de Fichet Group, recherche un(e) : Acheteur (F/H)CDI | Baldenheim (67) Au sein de notre usine de Bazancourt, vous pilotez et coordonnez les achats pour un produit ou un pro... Publiée il y a moins de 24h Envoyé Ré-essayer ? Voir l'annonce Acheteur Joaillerie H/F GROUPE PRINTEMPS Paris - 9ème arrondissement CDI Le siège du Printemps recrute son ou sa futur(e) Acheteur/se en CDI, pour une prise de poste immédiate. Vos missions : Rattaché(e) au Responsable de Marché au sein de la Direction Achats Joaillerie Horlogerie Bijoux, vos principales missions seront les suivantes : Construire... Publiée il y a moins de 24h Envoyé Ré-essayer ? Voir l'annonce Acheteur industriel h/f Chantiers de l'Atlantique Saint-Nazaire CDI Vous partagez la passion de l'industrie et de la technique ! La complexité de nos ouvrages alliée aux différentes typologies d'achats (Sous-traitance / Équipements / Cabines / Frais généraux / Services / EMR) vous permettent d'évoluer dans un environnement enrichissant. Fin... Publiée il y a moins de 24h Envoyé Ré-essayer ? Voir l'annonce Acheteur Confirmé F/H Mabéo Industries Bourg-en-Bresse CDI Négociation, rationalisation, BFA sont des termes qui font partie de votre quotidien Vous êtes à la recherche de nouveaux défis et souhaitez intégrer une entreprise conviviale et solide à la fois Alors c'est peut-être vous ! Pour la Direction Achats et Approvisionnement d... Publiée il y a moins de 24h Envoyé Ré-essayer ? Voir l'annonce Besoin d'un CV ? Gagnez du temps : créez votre CV avec Cadremploi et postulez en un clic. C'est gratuit ! Créez gratuitement le CV parfait pour votre job Créer mon CV en ligne Acheteur Confirmé F/H Mabéo Industries Lyon - 6ème arrondissement CDI Négociation, rationalisation, BFA sont des termes qui font partie de votre quotidien Vous êtes à la recherche de nouveaux défis et souhaitez intégrer une entreprise conviviale et solide à la fois Alors c'est peut-être vous ! Pour la Direction Achats et Approvisionnement d... Publiée il y a moins de 24h Envoyé Ré-essayer ? Voir l'annonce Acheteur Senior H/F EDF ENR Limonest CDI EDF ENR, créé en 2007 et filiale du Groupe EDF, est le leader dans le domaine du photovoltaïque en toiture en France. Nos valeurs d'innovation, de qualité, de sécurité et d'intégrité fédèrent notre entreprise riche de près de 950 hommes et femmes passionnés et acteurs de la t... Publiée il y a moins de 24h Envoyé Ré-essayer ? Voir l'annonce Acheteur technique H/F SKILLS RH Val-de-Reuil CDI Nous recherchons pour notre client, un acheteur technique H/F dans le cadre d'un CDIVous serez en charge de garantir l'achat des matières et produits ( quantité, coûts et délais. ). Vous traiterez les demandes d'ouverture de comptes et traiter les demandes d'e... Publiée il y a moins de 24h Envoyé Ré-essayer ? Voir l'annonce Acheteur Opérations H/F Fichet Group Vélizy-Villacoublay CDI Dans le cadre de son développement, Fichet Bauche, filiale de Fichet Group, recherche un(e) : Acheteur (F/H)CDI | Vélizy (78) Au sein de notre siège sur Vélizy, vous pilotez et coordonnez les achats pour un produit ou un projet complet, ... Publiée il y a moins de 24h Envoyé Ré-essayer ? Voir l'annonce Acheteur Industrie H/F Fichet Group Reims CDI Dans le cadre de son développement, Fichet Bauche, filiale de Fichet Group, recherche un(e) : Acheteur (F/H)CDI | Bazancourt (51) Au sein de notre usine de Bazancourt, vous pilotez et coordonnez les achats pour un produit ou un projet complet, en liai... Publiée il y a moins de 24h Envoyé Ré-essayer ? Voir l'annonce Acheteur approvisionneur H/F Axxens RH Bonneville CDI Le cabinet de recrutements Axxens RH recherche pour l?un de ses clients, entreprise industrielle spécialisée dans son domaine, un Acheteur approvisionneur H/F.Votre mission principale est d?approvisionner l?atelier en composants tout en optimisant le prix d?achat et ... Publiée il y a moins de 24h Envoyé Ré-essayer ? Voir l'annonce Acheteur Programmes Groupe h/f sabena technics Mérignac CDI Vos responsabilités incluent :Le suivi des Work Packages (WP) de développement en collaboration avec des services supports de la société (Bureau d'Etudes, Qualité, Production), L'établissement des cartographies par segment avec stratégiesLa présentation des gains associés dans... Publiée il y a moins de 24h Envoyé Ré-essayer ? Voir l'annonce Acheteur technique industriel (H/F) Baumert Schaeffersheim CDI Baumert recherche son nouveau talent pour renforcer ses équipes ! Acheteur Technique Industriel La société se renforce d'un carnet de commandes qui permet d'aborder l'avenir avec sérénité et de se concentrer sur l'amélioration continue et la transformation pour atteindre l'ex... Publiée il y a moins de 24h Candidature rapide Envoyé Ré-essayer ? Voir l'annonce Acheteur technique agroalimentaire (H/F) OTTEO Lille CDI CE QUE VOUS PROPOSE NOTRE CLIENT ?Grand groupe du secteur agroalimentaire, situé dans le Nord de la France, recherche, dans le cadre d?une création de poste, un Acheteur technique.Sous la responsabilité du Directeur Achats, vous êtes l?interlocuteur référent d... Publiée il y a moins de 24h Envoyé Ré-essayer ? Voir l'annonce Acheteur bilingue anglais (H/F) SKILLS RH Villeneuve-d'Ascq CDI En tant qu'acheteur (H/F) vous devrez intervenir sur : Gérer l?assortiment des produits et des collectionsSourcer et dénicher les produits tendances sur le marché ou les produits que recherchent vos clients et/ou prospects Négocier les prix auprès des différents ... Publiée il y a moins de 24h Envoyé Ré-essayer ? Voir l'annonce Acheteur Mode Street H/F CITADIUM Paris - 9ème arrondissement CDI Citadium recrute un acheteur chef de produit (H/F) sur le secteur de l'Homme. Missions : Rattaché(e) au Responsable des Achats, vous aurez un rôle majeur dans le cadre de la stratégie du secteur de la mode Homme. Définition de la meilleure offre (qualité et performance) de vot... Publiée il y a moins de 24h Envoyé Ré-essayer ? Voir l'annonce Besoin d'un CV ? Gagnez du temps : créez votre CV avec Cadremploi et postulez en un clic. C'est gratuit ! Créez gratuitement le CV parfait pour votre job Créer mon CV en ligne Acheteur fournitures et équipement en hôtellerie restauration F/H Siège de l'AP-HP Le Kremlin-Bicêtre CDI Elaborer des marchés de fournitures et équipements en hôtellerie et restauration, dans le respect des dispositions légales et réglementaires, conformément aux procédures d'ACHAT, selon le détail d'activité suivant : 1) Expression des besoins : · Planification de... Publiée il y a moins de 24h Envoyé Ré-essayer ? Voir l'annonce Acheteur international - region de nantes avec teletravail h/f FLEURY MICHON Pouzauges CDI Intégrer la direction filières et achats c'est faire partie d'une équipe de 12 acheteurs ayant chacun une expertise sur leur portefeuille (les emballages, les produits carnés, les produits de la mer...). Nous recherchons un aventurier, un baroudeur, prêt à voyager aux 4 coins... Publiée il y a moins de 24h Envoyé Ré-essayer ? Voir l'annonce Acheteur IT et Prestations intellectuelles Confirmé - Neuilly (H/F) Grant Thornton France Neuilly-sur-Seine CDI Votre mission chez Grant Thornton France : La practice Sourcing et Supply Chain de Grant Thornton est spécialisée en conseil achats à haute valeur ajoutée (diagnostic achats, définition d'une politique achats, transformation/refonte/optimisation des organisations et des proce... Publiée il y a moins de 24h Envoyé Ré-essayer ? Voir l'annonce Acheteuse / Acheteur Chef de Produits Junior F/H RAJA Val-d'Oise CDI Grâce à notre organisation en centrale d'achats européenne et à nos fournisseurs dans le monde entier, l'équipe améliore constamment ses conditions d'achat et développe une offre produit performante, innovante, et écoresponsable. Ses meilleurs atouts sont son degré d'exigence... Modifiée il y a 3 jours Envoyé Ré-essayer ? Voir l'annonce Acheteur - f/h LE CABRH Lisieux CDI Gérer un portefeuille fournisseurs/sous-traitants Sourcer et consulter les fournisseurs Comparer les différentes offres, appels d'ofrres Négociation en prenant en considération la qualité, le budget, le risque et le délai. Contrôler les demandes d'achats Suivre les command... Publiée il y a 1 jour Candidature rapide Envoyé Ré-essayer ? Voir l'annonce Acheteur (h/f) LHH Recruitment Solutions- Le Creusot Intérim LHH Recruitment Solutions, cabinet de conseil en recrutement, intérim spécialisé, management de transition, et évaluation d'expert.e.s, cadres et dirigeant.e.s, recherche pour son client un Acheteur (h/f) basé à Le Creusot. Au sein du service achat, votre mission principale es... Publiée il y a 2 jours Candidature rapide Envoyé Ré-essayer ? Voir l'annonce Acheteur H/F: FED SUPPLY Ancenis CDI Vous êtes acheteur et ne voulez pas passer à côté d'une belle opportunité ? Notre client, acteur local de renom spécialiste de solutions de manutention, d'élévation de personnes et de terrassement , a confié à Fed Supply le recrutement de son Acheteur Industriel H/F: Dans le ... Publiée il y a 5 jours Candidature rapide Envoyé Ré-essayer ? Voir l'annonce Acheteur H/F Populaire MICHAEL PAGE Nantes CDI Rattaché au Directeur Achats, vos missions seront : * Négocier, conclure et suivre les contrats locaux, * Exploiter les accords cadres existants, * Suivre les objectifs budgétaires, * Contribuer à l'amélioration des processus achats, * Réaliser le sourcing de nouveaux f... Publiée il y a 1 semaine Candidature rapide Envoyé Ré-essayer ? Voir l'annonce Acheteur h/f QUALIS RECRUTEMENT La Verriere CDI Pour notre client secteur medico social nous recherchons un(e) acheteur(se) confirmé Poste rattaché au RAF Les missions : * Etablir le Plan d'Action Achat et sa déclinaison pour les différents services afin d'accompagner l'établissement dans le suivi de ses achats et le p... Modifiée il y a 1 jour Candidature rapide Envoyé Ré-essayer ? Voir l'annonce 1 2 3 4 5 6 7 8 9 Suivant > 10 20 30 40 50 60 Faites-vous remarquer, 15 000 recruteurs vous attendent Je dépose mon CV dans la CV-thèque Doc, Docx, rtf, pdf (3 Mo. max) Les recruteurs à la une Accueil > Offre d'emploi Soyez le premier prévenu ! Recevez les offres correspondant à la recherche Acheteur M'alerter En créant votre alerte, vous acceptez les conditions d'utilisation Protection de vos données personnelles Nous recueillons vos données à caractère personnel afin de vous fournir les services auxquels vous souscrivez et notamment : assurer la création et la gestion de votre compte, vous proposer des entreprises et offres d'emploi susceptibles de vous intéresser, vous adresser nos newsletters d'information et autres services souscrits. Nous les utiliserons également, sous réserve des options souscrites, à des fins de ciblage publicitaire et de prospection commerciale au sein de notre Groupe, ainsi qu'avec nos partenaires commerciaux (salons, formation continue, cours de langue, service CV, invitations, etc.). Vous disposez à tout moment d'un droit d'accès, de rectification, de suppression et d'opposition relativement aux données vous concernant dans les limites prévues par la loi. Vous pouvez également à tout moment revoir vos options en matière de prospection commerciale et de ciblage. Ces droits peuvent être exercés à tout moment en écrivant à l'adresse DPO_cadremploi@figarocms.fr. Cadremploi est un service fourni par la société Figaro Classifieds. Pour en savoir plus sur la confidentialité et la protection des données que vous nous communiquez, cliquez ici Alerte active Vous recevrez par email les offres correspondant à la recherche Acheteur Gérer mes alertes Activer l'alerte : Acheteur Alerte activée : Acheteur Ayez l'ambition d'être heureux. Besoin d'aide ? Contactez-nous Questions fréquentes Conditions Générales d'Utilisation Politique de confidentialité Informations sur les cookies Paramétrer les cookies Plan du site Créer CV en ligne Les offres d'emploi par métier Les offres d'emploi par région Les offres d'emploi par secteurs Toutes les entreprises qui recrutent Les dossiers édito Qui sommes-nous ? A propos de Cadremploi Mentions légales Espace presse Rejoignez-nous Vous êtes recruteurs ? Déposer une offre d'emploi Suivez-nous sur les réseaux sociaux Téléchargez notre appli Your Website\""
      ]
     },
     "execution_count": 4,
     "metadata": {},
     "output_type": "execute_result"
    }
   ],
   "source": [
    "text"
   ]
  },
  {
   "cell_type": "code",
   "execution_count": 5,
   "id": "ca5a89e7-8540-446a-a684-30a11903b515",
   "metadata": {},
   "outputs": [],
   "source": [
    "from ai_leads.model.job_dataset_creation import JobDataFrameCreator"
   ]
  },
  {
   "cell_type": "code",
   "execution_count": 10,
   "id": "b2464eb0-e25e-4907-967e-5f29218decc1",
   "metadata": {},
   "outputs": [
    {
     "name": "stderr",
     "output_type": "stream",
     "text": [
      "INFO:ai_leads.model.job_dataset_creation:We just keep idf cities\n",
      "INFO:ai_leads.model.job_dataset_creation:An error occured: [Errno 2] No such file or directory: 'data/list_city_idf.txt'\n",
      "INFO:ai_leads.model.job_dataset_creation:LLM Response is: job name;company;location;time indication;contact\n",
      "Assistant - Assistante;GROUPE FARENEÏT – SECA;Sartrouville - 78;22/01/2024;N.A.\n",
      "Assistant;ENGIE;Gênes - Italie;30/01/2024;N.A.\n",
      "Assistant;Grand Est Interim;Hœnheim - 67;01/02/2024;N.A.\n",
      "Assistant;Onera;Châtillon - 92;Télétravail partiel;01/02/2024;N.A.\n",
      "Assistant;Supplay;Rennes - 35;31/01/2024;N.A.\n",
      "Assistant;Randstad Super recruteur;Saint-Priest - 69;58 jours;02/02/2024;N.A.\n",
      "Assistant;Randstad Super recruteur;Le Thor - 84;1 mois;01/02/2024;N.A.\n",
      "Assistant;Randstad Super recruteur;Toulouse - 31;3 mois;il y a 19 heures;N.A.\n",
      "Assistant;Randstad Super recruteur;Versailles - 78;60 jours;31/01/2024;N.A.\n",
      "Assistant;Randstad Super recruteur;Orvault - 44;2 mois;01/02/2024;N.A.\n",
      "Assistant;Randstad Super recruteur;Guilers - 29;6 mois;30/01/2024;N.A.\n",
      "Assistant;Randstad Super recruteur;Valbonne - 06;1 mois;30/01/2024;N.A.\n",
      "Assistant;Randstad Super recruteur;Maisons-Alfort - 94;3 mois;30/01/2024;N.A.\n",
      "Assistant;Randstad Super recruteur;Saint-Malo - 35;26 jours;01/02/2024;N.A.\n",
      "Assistant;Connectt Super recruteur;Paris 8e - 75;N.A.;N.A.;N.A.\n",
      "Assistant;Supplay;Billy-Montigny - 62;4 mois;N.A.;N.A.\n",
      "Assistant;Manpower;Saint-Joseph - 42;Début le 05 févr.;31/01/2024;N.A.\n",
      "Assistant;Expectra Super recruteur;Villepinte - 93;Télétravail occasionnel;3 mois;29/01/2024;N.A.\n",
      "Assistant;Randstad Super recruteur;Châteaubriant - 44;3 mois;30/01/2024;N.A.\n",
      "Assistant;Réseau alliance;Thoissey - 01;8 mois;31/01/2024;N.A.\n"
     ]
    },
    {
     "data": {
      "text/html": [
       "<div>\n",
       "<style scoped>\n",
       "    .dataframe tbody tr th:only-of-type {\n",
       "        vertical-align: middle;\n",
       "    }\n",
       "\n",
       "    .dataframe tbody tr th {\n",
       "        vertical-align: top;\n",
       "    }\n",
       "\n",
       "    .dataframe thead th {\n",
       "        text-align: right;\n",
       "    }\n",
       "</style>\n",
       "<table border=\"1\" class=\"dataframe\">\n",
       "  <thead>\n",
       "    <tr style=\"text-align: right;\">\n",
       "      <th></th>\n",
       "      <th>job name</th>\n",
       "      <th>company</th>\n",
       "      <th>location</th>\n",
       "      <th>time indication</th>\n",
       "      <th>contact</th>\n",
       "    </tr>\n",
       "  </thead>\n",
       "  <tbody>\n",
       "    <tr>\n",
       "      <th>0</th>\n",
       "      <td>Assistant - Assistante</td>\n",
       "      <td>GROUPE FARENEÏT – SECA</td>\n",
       "      <td>Sartrouville - 78</td>\n",
       "      <td>22/01/2024</td>\n",
       "      <td>N.A.</td>\n",
       "    </tr>\n",
       "    <tr>\n",
       "      <th>1</th>\n",
       "      <td>Assistant</td>\n",
       "      <td>ENGIE</td>\n",
       "      <td>Gênes - Italie</td>\n",
       "      <td>30/01/2024</td>\n",
       "      <td>N.A.</td>\n",
       "    </tr>\n",
       "    <tr>\n",
       "      <th>2</th>\n",
       "      <td>Assistant</td>\n",
       "      <td>Grand Est Interim</td>\n",
       "      <td>Hœnheim - 67</td>\n",
       "      <td>01/02/2024</td>\n",
       "      <td>N.A.</td>\n",
       "    </tr>\n",
       "    <tr>\n",
       "      <th>3</th>\n",
       "      <td>Assistant</td>\n",
       "      <td>Supplay</td>\n",
       "      <td>Rennes - 35</td>\n",
       "      <td>31/01/2024</td>\n",
       "      <td>N.A.</td>\n",
       "    </tr>\n",
       "  </tbody>\n",
       "</table>\n",
       "</div>"
      ],
      "text/plain": [
       "                 job name                 company  ... time indication contact\n",
       "0  Assistant - Assistante  GROUPE FARENEÏT – SECA  ...      22/01/2024    N.A.\n",
       "1               Assistant                   ENGIE  ...      30/01/2024    N.A.\n",
       "2               Assistant       Grand Est Interim  ...      01/02/2024    N.A.\n",
       "3               Assistant                 Supplay  ...      31/01/2024    N.A.\n",
       "\n",
       "[4 rows x 5 columns]"
      ]
     },
     "execution_count": 10,
     "metadata": {},
     "output_type": "execute_result"
    }
   ],
   "source": [
    "JobDataFrameCreator().create_table_with_job(\"https://www.hellowork.com/fr-fr/emploi/recherche.html?k=Assistant\", \"Hello Work\")"
   ]
  },
  {
   "cell_type": "code",
   "execution_count": 8,
   "id": "dd5692b7-9f58-4428-b76a-39f7afff2790",
   "metadata": {},
   "outputs": [
    {
     "data": {
      "text/plain": [
       "'s'"
      ]
     },
     "execution_count": 8,
     "metadata": {},
     "output_type": "execute_result"
    }
   ],
   "source": [
    "\"moinss\".replace(\"moins\", \"\")"
   ]
  },
  {
   "cell_type": "code",
   "execution_count": 11,
   "id": "a0b056e0-f43a-444b-bdab-0f8ab2d480ab",
   "metadata": {},
   "outputs": [
    {
     "data": {
      "text/plain": [
       "'21-01-2024'"
      ]
     },
     "execution_count": 11,
     "metadata": {},
     "output_type": "execute_result"
    }
   ],
   "source": [
    "JobDataFrameCreator().convert_to_date(\"22/01/2024\")"
   ]
  },
  {
   "cell_type": "code",
   "execution_count": 1,
   "id": "fc504ade-fa20-48e4-aff7-5cdd1b8b4253",
   "metadata": {},
   "outputs": [
    {
     "name": "stderr",
     "output_type": "stream",
     "text": [
      "100%|███████████████████████████████████████| 139M/139M [00:50<00:00, 2.88MiB/s]\n"
     ]
    },
    {
     "name": "stdout",
     "output_type": "stream",
     "text": [
      "Collecting ffmpeg \n",
      "  Downloading ffmpeg-6.1.1.zip \n",
      "  Downloading ffprobe-6.1.1.zip \n",
      "  Downloading ffplay-6.1.1.zip \n",
      "Please remember that to maintain and host the FFmpeg binaries is not free. \n",
      "If you appreciate their effort, please consider donating to help them with \n",
      "the upkeep of their website via https://evermeet.cx.\n",
      "\n"
     ]
    },
    {
     "name": "stderr",
     "output_type": "stream",
     "text": [
      "installing:   0%|          | 0.00/228M [00:00<?, ?B/s]                            "
     ]
    },
    {
     "name": "stdout",
     "output_type": "stream",
     "text": [
      "Installing collected FFmpeg binaries: 6.1.1\n"
     ]
    },
    {
     "name": "stderr",
     "output_type": "stream",
     "text": [
      "                                                              \r"
     ]
    },
    {
     "name": "stdout",
     "output_type": "stream",
     "text": [
      "/Users/raphaeladda/.zsh_profile\n",
      "Successfully installed FFmpeg binaries: 6.1.1 in\n",
      "    /Users/raphaeladda/Library/Application Support/ffmpeg-downloader/ffmpeg\n",
      "Recaptcha Solvedbe...\n"
     ]
    }
   ],
   "source": [
    "from selenium import webdriver\n",
    "from selenium_recaptcha import Recaptcha_Solver\n",
    "driver = webdriver.Chrome()\n",
    "driver.get('https://www.google.com/recaptcha/api2/demo')\n",
    "\n",
    "solver = Recaptcha_Solver(\n",
    "driver=driver, # Your Web Driver\n",
    "ffmpeg_path='', # Optional. If does not exists, it will automatically download.\n",
    "log=1 # If you want to view the progress.\n",
    ")\n",
    "solver.solve_recaptcha()"
   ]
  },
  {
   "cell_type": "code",
   "execution_count": null,
   "id": "4951d654-e78e-4675-8769-44200ebafe09",
   "metadata": {},
   "outputs": [],
   "source": []
  }
 ],
 "metadata": {
  "kernelspec": {
   "display_name": "ai-leads-dev",
   "language": "python",
   "name": "ai-leads-dev"
  },
  "language_info": {
   "codemirror_mode": {
    "name": "ipython",
    "version": 3
   },
   "file_extension": ".py",
   "mimetype": "text/x-python",
   "name": "python",
   "nbconvert_exporter": "python",
   "pygments_lexer": "ipython3",
   "version": "3.11.3"
  }
 },
 "nbformat": 4,
 "nbformat_minor": 5
}
