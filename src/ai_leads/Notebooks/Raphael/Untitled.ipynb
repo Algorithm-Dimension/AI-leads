{
 "cells": [
  {
   "cell_type": "code",
   "execution_count": 6,
   "id": "87fc2448",
   "metadata": {},
   "outputs": [],
   "source": [
    "from ai_leads.model.llm_model import LLMManager\n",
    "from langchain.output_parsers import StructuredOutputParser"
   ]
  },
  {
   "cell_type": "code",
   "execution_count": 9,
   "id": "d7db1df7",
   "metadata": {},
   "outputs": [],
   "source": [
    "from enum import Enum\n",
    "from langchain.output_parsers import ResponseSchema, StructuredOutputParser\n",
    "from langchain.output_parsers.enum import EnumOutputParser\n",
    "\n",
    "class CompanyActivity(Enum):\n",
    "    RECRUITING = \"Recruitment\"\n",
    "    FORMATION_ECOLE = \"Formation/Education\"\n",
    "    OTHER = \"Other\"\n",
    "\n",
    "\n",
    "template_find_activity = \"\"\"\n",
    "    What is the activity sector of the company, according to this text ?\n",
    "    > Text: {html_raw_code}\n",
    "    Please, answer using the following instructions. Don't do anything else\n",
    "    Instructions: {format_instructions}\"\"\"\n",
    "\n",
    "enum_parser_activity = EnumOutputParser(enum=CompanyActivity)"
   ]
  },
  {
   "cell_type": "code",
   "execution_count": 12,
   "id": "3360907d",
   "metadata": {},
   "outputs": [
    {
     "name": "stderr",
     "output_type": "stream",
     "text": [
      "INFO:httpx:HTTP Request: POST https://api.openai.com/v1/chat/completions \"HTTP/1.1 200 OK\"\n"
     ]
    },
    {
     "name": "stdout",
     "output_type": "stream",
     "text": [
      "content='Recruitment' response_metadata={'token_usage': {'completion_tokens': 2, 'prompt_tokens': 69, 'total_tokens': 71}, 'model_name': 'gpt-3.5-turbo-16k', 'system_fingerprint': None, 'finish_reason': 'stop', 'logprobs': None} id='run-0edd1415-4cfa-4e57-b128-c02769f7bde7-0'\n"
     ]
    }
   ],
   "source": [
    "import ai_leads.utils as utils\n",
    "output_parser = enum_parser_activity\n",
    "variable_list = utils.extract_variables(template_find_activity)\n",
    "html_raw_code = \"Kara est une agence d'intérim\"\n",
    "llm_manager = LLMManager()\n",
    "llm_manager.llm = ChatGroq(temperature=0, groq_api_key=api_key_groq, \n",
    "                           model_name=\"mixtral-8x7b-32768\")\n",
    "if output_parser is not None:\n",
    "    format_instructions = output_parser.get_format_instructions()\n",
    "    variable_list.remove(\"format_instructions\")\n",
    "    prompt = llm_manager.prepare_prompt(\n",
    "        template=template_find_activity,\n",
    "        input_vars=variable_list,\n",
    "        partial_vars={\"format_instructions\": format_instructions},\n",
    "    )\n",
    "    response = llm_manager.run_llm_chain(prompt, html_raw_code=html_raw_code)\n",
    "    print(response)\n",
    "else:\n",
    "    prompt = llm_manager.prepare_prompt(template=template, input_vars=variable_list)\n",
    "    response = llm_manager.run_llm_chain(prompt, url=url)\n",
    "    print(response)"
   ]
  },
  {
   "cell_type": "code",
   "execution_count": 18,
   "id": "8a0983aa",
   "metadata": {},
   "outputs": [
    {
     "data": {
      "text/plain": [
       "langchain_core.messages.ai.AIMessage"
      ]
     },
     "execution_count": 18,
     "metadata": {},
     "output_type": "execute_result"
    }
   ],
   "source": [
    "import langchain_core\n",
    "langchain_core.messages.ai.AIMessage"
   ]
  },
  {
   "cell_type": "code",
   "execution_count": 14,
   "id": "a9feed4a",
   "metadata": {},
   "outputs": [
    {
     "data": {
      "text/plain": [
       "'Recruitment'"
      ]
     },
     "execution_count": 14,
     "metadata": {},
     "output_type": "execute_result"
    }
   ],
   "source": [
    "response.content"
   ]
  },
  {
   "cell_type": "code",
   "execution_count": 10,
   "id": "92d94fad",
   "metadata": {},
   "outputs": [
    {
     "data": {
      "text/plain": [
       "['url']"
      ]
     },
     "execution_count": 10,
     "metadata": {},
     "output_type": "execute_result"
    }
   ],
   "source": [
    "import ai_leads.utils as utils\n",
    "prompt_template = \"\"\"Hello {url}\"\"\"\n",
    "variable_list = utils.extract_variables(prompt_template)\n",
    "variable_list"
   ]
  },
  {
   "cell_type": "code",
   "execution_count": 4,
   "id": "7e655600",
   "metadata": {},
   "outputs": [
    {
     "name": "stderr",
     "output_type": "stream",
     "text": [
      "INFO:httpx:HTTP Request: POST https://api.openai.com/v1/chat/completions \"HTTP/1.1 200 OK\"\n"
     ]
    }
   ],
   "source": [
    "import ai_leads.utils as utils\n",
    "prompt_template = \"\"\"Donne une liste de 5 joueurs du barça {url}\"\"\"\n",
    "variable_list = utils.extract_variables(prompt_template)\n",
    "url = \"lequipe.fr\"\n",
    "llm_manager = LLMManager()\n",
    "prompt = llm_manager.prepare_prompt(template=prompt_template, input_vars=variable_list)\n",
    "response = llm_manager.run_llm_chain(prompt, url = url)"
   ]
  },
  {
   "cell_type": "code",
   "execution_count": 5,
   "id": "00febf67",
   "metadata": {},
   "outputs": [
    {
     "data": {
      "text/plain": [
       "AIMessage(content=\"Voici une liste de 5 joueurs du FC Barcelone selon lequipe.fr :\\n\\n1. Lionel Messi - Considéré comme l'un des meilleurs joueurs de tous les temps, Messi est le capitaine emblématique du Barça et a remporté de nombreux titres avec le club.\\n\\n2. Antoine Griezmann - L'attaquant français a rejoint le Barça en 2019 et apporte sa vitesse et sa technique au jeu de l'équipe.\\n\\n3. Frenkie de Jong - Le milieu de terrain néerlandais est connu pour sa vision du jeu et sa capacité à contrôler le milieu de terrain.\\n\\n4. Gerard Piqué - Le défenseur espagnol est un pilier de la défense du Barça depuis de nombreuses années et apporte son expérience et son leadership à l'équipe.\\n\\n5. Marc-André ter Stegen - Le gardien allemand est considéré comme l'un des meilleurs gardiens de but au monde et a été un élément clé de l'équipe du Barça ces dernières saisons.\", response_metadata={'token_usage': {'completion_tokens': 232, 'prompt_tokens': 22, 'total_tokens': 254}, 'model_name': 'gpt-3.5-turbo-16k', 'system_fingerprint': None, 'finish_reason': 'stop', 'logprobs': None}, id='run-6c02cfbc-e2a9-4b14-bf18-fe6a88e5d0ad-0')"
      ]
     },
     "execution_count": 5,
     "metadata": {},
     "output_type": "execute_result"
    }
   ],
   "source": [
    "response"
   ]
  },
  {
   "cell_type": "code",
   "execution_count": 26,
   "id": "1d27fc3f",
   "metadata": {},
   "outputs": [
    {
     "name": "stderr",
     "output_type": "stream",
     "text": [
      "INFO:httpx:HTTP Request: POST https://api.openai.com/v1/chat/completions \"HTTP/1.1 200 OK\"\n"
     ]
    },
    {
     "data": {
      "text/plain": [
       "AIMessage(content='1. Lionel Messi\\n2. Gerard Piqué\\n3. Sergio Busquets\\n4. Jordi Alba\\n5. Antoine Griezmann', response_metadata={'token_usage': {'completion_tokens': 31, 'prompt_tokens': 19, 'total_tokens': 50}, 'model_name': 'gpt-3.5-turbo-16k', 'system_fingerprint': None, 'finish_reason': 'stop', 'logprobs': None}, id='run-0ede7ff9-ee70-429e-8f8c-616f233634af-0')"
      ]
     },
     "execution_count": 26,
     "metadata": {},
     "output_type": "execute_result"
    }
   ],
   "source": [
    "llm_chain.invoke({})"
   ]
  },
  {
   "cell_type": "code",
   "execution_count": 5,
   "id": "ccd12a98",
   "metadata": {},
   "outputs": [],
   "source": [
    "from langchain_core.prompts import ChatPromptTemplate\n",
    "from langchain_groq import ChatGroq"
   ]
  },
  {
   "cell_type": "code",
   "execution_count": 6,
   "id": "7d7cc185",
   "metadata": {},
   "outputs": [],
   "source": [
    "api_key_groq = \"xxx\"\n",
    "chat = ChatGroq(temperature=0, groq_api_key=api_key_groq, model_name=\"mixtral-8x7b-32768\")"
   ]
  },
  {
   "cell_type": "code",
   "execution_count": 7,
   "id": "b4921033",
   "metadata": {},
   "outputs": [
    {
     "name": "stderr",
     "output_type": "stream",
     "text": [
      "INFO:httpx:HTTP Request: POST https://api.groq.com/openai/v1/chat/completions \"HTTP/1.1 200 OK\"\n"
     ]
    },
    {
     "data": {
      "text/plain": [
       "AIMessage(content='Sure, I\\'d be happy to explain!\\n\\nLLM stands for \"Low Latency Logging,\" which is a method of recording and transmitting data with minimal delay. Low latency LLMs are particularly important in time-sensitive applications where real-time data processing is critical. Here are some reasons why low latency LLMs are important:\\n\\n1. Improved user experience: In applications such as online gaming or video conferencing, low latency LLMs ensure that data is transmitted and processed quickly, resulting in a smoother and more responsive user experience.\\n2. Increased efficiency: Low latency LLMs enable faster data processing, which can lead to increased efficiency in data-intensive applications such as financial trading or scientific simulations.\\n3. Enhanced security: In security-critical applications, low latency LLMs can help detect and respond to threats more quickly, reducing the risk of data breaches or other security incidents.\\n4. Better decision-making: In real-time decision-making scenarios, such as autonomous vehicles or industrial automation, low latency LLMs can provide the necessary data in near real-time, enabling faster and more accurate decision-making.\\n\\nOverall, low latency LLMs are essential in applications where timely and accurate data processing is critical. By minimizing delay and ensuring fast data transmission, low latency LLMs can improve user experience, increase efficiency, enhance security, and enable better decision-making.', response_metadata={'token_usage': {'completion_time': 0.558, 'completion_tokens': 309, 'prompt_time': 0.007, 'prompt_tokens': 26, 'queue_time': None, 'total_time': 0.5650000000000001, 'total_tokens': 335}, 'model_name': 'mixtral-8x7b-32768', 'system_fingerprint': 'fp_c5f20b5bb1', 'finish_reason': 'stop', 'logprobs': None}, id='run-d73266d5-5193-4b52-ae4a-8c17e3449c1a-0')"
      ]
     },
     "execution_count": 7,
     "metadata": {},
     "output_type": "execute_result"
    }
   ],
   "source": [
    "system = \"You are a helpful assistant.\"\n",
    "human = \"{text}\"\n",
    "prompt = ChatPromptTemplate.from_messages([(\"system\", system), (\"human\", human)])\n",
    "\n",
    "chain = prompt | chat\n",
    "chain.invoke({\"text\": \"Explain the importance of low latency LLMs.\"})"
   ]
  },
  {
   "cell_type": "markdown",
   "id": "21fa9d47",
   "metadata": {},
   "source": [
    "## Test job df creator"
   ]
  },
  {
   "cell_type": "code",
   "execution_count": 8,
   "id": "3253208e",
   "metadata": {},
   "outputs": [],
   "source": [
    "from ai_leads.model.job_dataset_creation import JobDataFrameCreator"
   ]
  },
  {
   "cell_type": "markdown",
   "id": "9620485b",
   "metadata": {},
   "source": [
    "## With Groq"
   ]
  },
  {
   "cell_type": "code",
   "execution_count": 20,
   "id": "89047c77",
   "metadata": {},
   "outputs": [
    {
     "name": "stdout",
     "output_type": "stream",
     "text": [
      "CPU times: user 3 µs, sys: 1 µs, total: 4 µs\n",
      "Wall time: 8.82 µs\n"
     ]
    },
    {
     "name": "stderr",
     "output_type": "stream",
     "text": [
      "INFO:httpx:HTTP Request: POST https://api.openai.com/v1/chat/completions \"HTTP/1.1 200 OK\"\n",
      "INFO:ai_leads.model.job_dataset_creation:We just keep idf cities\n",
      "INFO:ai_leads.model.job_dataset_creation:An error occured: [Errno 2] No such file or directory: 'data/list_city_idf.txt'\n",
      "INFO:ai_leads.model.job_dataset_creation:LLM Response is: job name; company; location; time indication; contact\n",
      "Data Scientist F/HiQera; iQera; Paris (75); il y a 23 jours; N.A.\n",
      "Alternance – Data scientist (H/F) – Metz (57); Caisse d'Epargne Grand Est Europe; Metz (57); il y a 10 jours; N.A.\n",
      "Analyste Audit IT & Data | PwC Montpellier | CDI | H/F; PwC; Montpellier; il y a 8 jours; N.A.\n",
      "Data Scientist (F-H) H/F; GROUPE LA CENTRALE; Paris (75); il y a 3 jours; N.A.\n",
      "Data Scientist H/F; GROUPE LA CENTRALE; Paris (75); il y a 15 jours; N.A.\n",
      "Data Scientist - Machine Learning; Eyetech Solutions; Paris (75); N.A.; N.A.\n",
      "Alternance Data analyst H/F - Sarcelles (F/H); ISCOD; Sarcelles; il y a 2 jours; N.A.\n",
      "Data Analyst; Peroptyx; Paris (75); N.A.; N.A.\n",
      "RESERVISTE - Data analyst; Marine Nationale; Brest; il y a 25 jours; N.A.\n",
      "IMEO Methane Data Scientist; United Nations; Paris (75); il y a 26 jours; N.A.\n",
      "Data Scientist (H/F); DCS EASYWARE; Paris (75); il y a 5 jours; N.A.\n",
      "DATA SCIENTIST H/F; Orange Business; Paris (75); il y a 12 jours; N.A.\n",
      "DATA SCIENTIST H/F; Orange; Paris (75); il y a plus de 30 jours; N.A.\n",
      "Apprenti Data Scientist Maintenance Prédictive du réseau METRO; RATP; Paris; il y a 5 jours; N.A.\n",
      "Data Scientist (H/F); DCS GROUP; Paris (75); il y a 3 jours; N.A.\n"
     ]
    },
    {
     "data": {
      "text/html": [
       "<div>\n",
       "<style scoped>\n",
       "    .dataframe tbody tr th:only-of-type {\n",
       "        vertical-align: middle;\n",
       "    }\n",
       "\n",
       "    .dataframe tbody tr th {\n",
       "        vertical-align: top;\n",
       "    }\n",
       "\n",
       "    .dataframe thead th {\n",
       "        text-align: right;\n",
       "    }\n",
       "</style>\n",
       "<table border=\"1\" class=\"dataframe\">\n",
       "  <thead>\n",
       "    <tr style=\"text-align: right;\">\n",
       "      <th></th>\n",
       "      <th>job name</th>\n",
       "      <th>company</th>\n",
       "      <th>location</th>\n",
       "      <th>time indication</th>\n",
       "      <th>contact</th>\n",
       "    </tr>\n",
       "  </thead>\n",
       "  <tbody>\n",
       "    <tr>\n",
       "      <th>0</th>\n",
       "      <td>Data Scientist F/HiQera</td>\n",
       "      <td>iQera</td>\n",
       "      <td>Paris (75)</td>\n",
       "      <td>il y a 23 jours</td>\n",
       "      <td>N.A.</td>\n",
       "    </tr>\n",
       "    <tr>\n",
       "      <th>1</th>\n",
       "      <td>Alternance – Data scientist (H/F) – Metz (57)</td>\n",
       "      <td>Caisse d'Epargne Grand Est Europe</td>\n",
       "      <td>Metz (57)</td>\n",
       "      <td>il y a 10 jours</td>\n",
       "      <td>N.A.</td>\n",
       "    </tr>\n",
       "    <tr>\n",
       "      <th>2</th>\n",
       "      <td>Analyste Audit IT &amp; Data | PwC Montpellier | C...</td>\n",
       "      <td>PwC</td>\n",
       "      <td>Montpellier</td>\n",
       "      <td>il y a 8 jours</td>\n",
       "      <td>N.A.</td>\n",
       "    </tr>\n",
       "    <tr>\n",
       "      <th>3</th>\n",
       "      <td>Data Scientist (F-H) H/F</td>\n",
       "      <td>GROUPE LA CENTRALE</td>\n",
       "      <td>Paris (75)</td>\n",
       "      <td>il y a 3 jours</td>\n",
       "      <td>N.A.</td>\n",
       "    </tr>\n",
       "    <tr>\n",
       "      <th>4</th>\n",
       "      <td>Data Scientist H/F</td>\n",
       "      <td>GROUPE LA CENTRALE</td>\n",
       "      <td>Paris (75)</td>\n",
       "      <td>il y a 15 jours</td>\n",
       "      <td>N.A.</td>\n",
       "    </tr>\n",
       "    <tr>\n",
       "      <th>5</th>\n",
       "      <td>Data Scientist - Machine Learning</td>\n",
       "      <td>Eyetech Solutions</td>\n",
       "      <td>Paris (75)</td>\n",
       "      <td>N.A.</td>\n",
       "      <td>N.A.</td>\n",
       "    </tr>\n",
       "    <tr>\n",
       "      <th>6</th>\n",
       "      <td>Alternance Data analyst H/F - Sarcelles (F/H)</td>\n",
       "      <td>ISCOD</td>\n",
       "      <td>Sarcelles</td>\n",
       "      <td>il y a 2 jours</td>\n",
       "      <td>N.A.</td>\n",
       "    </tr>\n",
       "    <tr>\n",
       "      <th>7</th>\n",
       "      <td>Data Analyst</td>\n",
       "      <td>Peroptyx</td>\n",
       "      <td>Paris (75)</td>\n",
       "      <td>N.A.</td>\n",
       "      <td>N.A.</td>\n",
       "    </tr>\n",
       "    <tr>\n",
       "      <th>8</th>\n",
       "      <td>RESERVISTE - Data analyst</td>\n",
       "      <td>Marine Nationale</td>\n",
       "      <td>Brest</td>\n",
       "      <td>il y a 25 jours</td>\n",
       "      <td>N.A.</td>\n",
       "    </tr>\n",
       "    <tr>\n",
       "      <th>9</th>\n",
       "      <td>IMEO Methane Data Scientist</td>\n",
       "      <td>United Nations</td>\n",
       "      <td>Paris (75)</td>\n",
       "      <td>il y a 26 jours</td>\n",
       "      <td>N.A.</td>\n",
       "    </tr>\n",
       "    <tr>\n",
       "      <th>10</th>\n",
       "      <td>Data Scientist (H/F)</td>\n",
       "      <td>DCS EASYWARE</td>\n",
       "      <td>Paris (75)</td>\n",
       "      <td>il y a 5 jours</td>\n",
       "      <td>N.A.</td>\n",
       "    </tr>\n",
       "    <tr>\n",
       "      <th>11</th>\n",
       "      <td>DATA SCIENTIST H/F</td>\n",
       "      <td>Orange Business</td>\n",
       "      <td>Paris (75)</td>\n",
       "      <td>il y a 12 jours</td>\n",
       "      <td>N.A.</td>\n",
       "    </tr>\n",
       "    <tr>\n",
       "      <th>12</th>\n",
       "      <td>DATA SCIENTIST H/F</td>\n",
       "      <td>Orange</td>\n",
       "      <td>Paris (75)</td>\n",
       "      <td>il y a plus de 30 jours</td>\n",
       "      <td>N.A.</td>\n",
       "    </tr>\n",
       "    <tr>\n",
       "      <th>13</th>\n",
       "      <td>Apprenti Data Scientist Maintenance Prédictive...</td>\n",
       "      <td>RATP</td>\n",
       "      <td>Paris</td>\n",
       "      <td>il y a 5 jours</td>\n",
       "      <td>N.A.</td>\n",
       "    </tr>\n",
       "    <tr>\n",
       "      <th>14</th>\n",
       "      <td>Data Scientist (H/F)</td>\n",
       "      <td>DCS GROUP</td>\n",
       "      <td>Paris (75)</td>\n",
       "      <td>il y a 3 jours</td>\n",
       "      <td>N.A.</td>\n",
       "    </tr>\n",
       "  </tbody>\n",
       "</table>\n",
       "</div>"
      ],
      "text/plain": [
       "                                             job name  ... contact\n",
       "0                             Data Scientist F/HiQera  ...    N.A.\n",
       "1       Alternance – Data scientist (H/F) – Metz (57)  ...    N.A.\n",
       "2   Analyste Audit IT & Data | PwC Montpellier | C...  ...    N.A.\n",
       "3                            Data Scientist (F-H) H/F  ...    N.A.\n",
       "4                                  Data Scientist H/F  ...    N.A.\n",
       "5                   Data Scientist - Machine Learning  ...    N.A.\n",
       "6       Alternance Data analyst H/F - Sarcelles (F/H)  ...    N.A.\n",
       "7                                        Data Analyst  ...    N.A.\n",
       "8                           RESERVISTE - Data analyst  ...    N.A.\n",
       "9                         IMEO Methane Data Scientist  ...    N.A.\n",
       "10                               Data Scientist (H/F)  ...    N.A.\n",
       "11                                 DATA SCIENTIST H/F  ...    N.A.\n",
       "12                                 DATA SCIENTIST H/F  ...    N.A.\n",
       "13  Apprenti Data Scientist Maintenance Prédictive...  ...    N.A.\n",
       "14                               Data Scientist (H/F)  ...    N.A.\n",
       "\n",
       "[15 rows x 5 columns]"
      ]
     },
     "execution_count": 20,
     "metadata": {},
     "output_type": "execute_result"
    }
   ],
   "source": [
    "%time\n",
    "url = \"https://fr.indeed.com/q-data-scientist-emplois.html?vjk=329a7f78a3224b9a\"\n",
    "job_df_instance = JobDataFrameCreator()\n",
    "job_df_instance.llm_manager.llm = ChatGroq(temperature=0, groq_api_key=api_key_groq, \n",
    "                                           model_name=\"llama3-8b-8192\")\n",
    "job_df_instance.create_table_with_job(url, platform = \"Indeed\")"
   ]
  },
  {
   "cell_type": "markdown",
   "id": "d2bedfa9",
   "metadata": {},
   "source": [
    "## With Open AI"
   ]
  },
  {
   "cell_type": "code",
   "execution_count": 19,
   "id": "27b137c3",
   "metadata": {},
   "outputs": [
    {
     "name": "stdout",
     "output_type": "stream",
     "text": [
      "CPU times: user 3 µs, sys: 1e+03 ns, total: 4 µs\n",
      "Wall time: 9.06 µs\n"
     ]
    },
    {
     "name": "stderr",
     "output_type": "stream",
     "text": [
      "INFO:httpx:HTTP Request: POST https://api.openai.com/v1/chat/completions \"HTTP/1.1 200 OK\"\n",
      "INFO:ai_leads.model.job_dataset_creation:We just keep idf cities\n",
      "INFO:ai_leads.model.job_dataset_creation:An error occured: [Errno 2] No such file or directory: 'data/list_city_idf.txt'\n",
      "INFO:ai_leads.model.job_dataset_creation:LLM Response is: job name; company; location; time indication; contact\n",
      "Data Scientist F/H; iQera; Paris (75); il y a 23 jours; N.A.\n",
      "Alternance – Data scientist (H/F) – Metz (57); Caisse d'Epargne Grand Est Europe; Metz (57); il y a 10 jours; N.A.\n",
      "Analyste Audit IT & Data | PwC Montpellier | CDI | H/F; PwC; Montpellier; il y a 8 jours; N.A.\n",
      "Data Scientist (F-H) H/F; GROUPE LA CENTRALE; Paris (75); il y a 3 jours; N.A.\n",
      "Data Scientist H/F; GROUPE LA CENTRALE; Paris (75); il y a 15 jours; N.A.\n",
      "Data Scientist - Machine Learning; Eyetech Solutions; Paris (75); aujourd'hui; N.A.\n",
      "Alternance Data analyst H/F - Sarcelles (F/H); ISCOD; Sarcelles; il y a 2 jours; N.A.\n",
      "Data Analyst; Peroptyx; Paris (75); N.A.; N.A.\n",
      "RESERVISTE - Data analyst; Marine Nationale; Brest; il y a 25 jours; N.A.\n",
      "IMEO Methane Data Scientist; United Nations; Paris (75); il y a 26 jours; N.A.\n",
      "Data Scientist (H/F); DCS EASYWARE; Paris (75); il y a 5 jours; N.A.\n",
      "DATA SCIENTIST H/F; Orange Business; Paris (75); il y a 12 jours; N.A.\n",
      "DATA SCIENTIST H/F; Orange; Paris (75); il y a plus de 30 jours; N.A.\n",
      "Apprenti Data Scientist Maintenance Prédictive du réseau METRO; RATP; Paris; il y a 5 jours; N.A.\n",
      "Data Scientist (H/F); DCS GROUP; Paris (75); il y a 3 jours; N.A.\n"
     ]
    },
    {
     "data": {
      "text/html": [
       "<div>\n",
       "<style scoped>\n",
       "    .dataframe tbody tr th:only-of-type {\n",
       "        vertical-align: middle;\n",
       "    }\n",
       "\n",
       "    .dataframe tbody tr th {\n",
       "        vertical-align: top;\n",
       "    }\n",
       "\n",
       "    .dataframe thead th {\n",
       "        text-align: right;\n",
       "    }\n",
       "</style>\n",
       "<table border=\"1\" class=\"dataframe\">\n",
       "  <thead>\n",
       "    <tr style=\"text-align: right;\">\n",
       "      <th></th>\n",
       "      <th>job name</th>\n",
       "      <th>company</th>\n",
       "      <th>location</th>\n",
       "      <th>time indication</th>\n",
       "      <th>contact</th>\n",
       "    </tr>\n",
       "  </thead>\n",
       "  <tbody>\n",
       "    <tr>\n",
       "      <th>0</th>\n",
       "      <td>Data Scientist F/H</td>\n",
       "      <td>iQera</td>\n",
       "      <td>Paris (75)</td>\n",
       "      <td>il y a 23 jours</td>\n",
       "      <td>N.A.</td>\n",
       "    </tr>\n",
       "    <tr>\n",
       "      <th>1</th>\n",
       "      <td>Alternance – Data scientist (H/F) – Metz (57)</td>\n",
       "      <td>Caisse d'Epargne Grand Est Europe</td>\n",
       "      <td>Metz (57)</td>\n",
       "      <td>il y a 10 jours</td>\n",
       "      <td>N.A.</td>\n",
       "    </tr>\n",
       "    <tr>\n",
       "      <th>2</th>\n",
       "      <td>Analyste Audit IT &amp; Data | PwC Montpellier | C...</td>\n",
       "      <td>PwC</td>\n",
       "      <td>Montpellier</td>\n",
       "      <td>il y a 8 jours</td>\n",
       "      <td>N.A.</td>\n",
       "    </tr>\n",
       "    <tr>\n",
       "      <th>3</th>\n",
       "      <td>Data Scientist (F-H) H/F</td>\n",
       "      <td>GROUPE LA CENTRALE</td>\n",
       "      <td>Paris (75)</td>\n",
       "      <td>il y a 3 jours</td>\n",
       "      <td>N.A.</td>\n",
       "    </tr>\n",
       "    <tr>\n",
       "      <th>4</th>\n",
       "      <td>Data Scientist H/F</td>\n",
       "      <td>GROUPE LA CENTRALE</td>\n",
       "      <td>Paris (75)</td>\n",
       "      <td>il y a 15 jours</td>\n",
       "      <td>N.A.</td>\n",
       "    </tr>\n",
       "    <tr>\n",
       "      <th>5</th>\n",
       "      <td>Data Scientist - Machine Learning</td>\n",
       "      <td>Eyetech Solutions</td>\n",
       "      <td>Paris (75)</td>\n",
       "      <td>aujourd'hui</td>\n",
       "      <td>N.A.</td>\n",
       "    </tr>\n",
       "    <tr>\n",
       "      <th>6</th>\n",
       "      <td>Alternance Data analyst H/F - Sarcelles (F/H)</td>\n",
       "      <td>ISCOD</td>\n",
       "      <td>Sarcelles</td>\n",
       "      <td>il y a 2 jours</td>\n",
       "      <td>N.A.</td>\n",
       "    </tr>\n",
       "    <tr>\n",
       "      <th>7</th>\n",
       "      <td>Data Analyst</td>\n",
       "      <td>Peroptyx</td>\n",
       "      <td>Paris (75)</td>\n",
       "      <td>N.A.</td>\n",
       "      <td>N.A.</td>\n",
       "    </tr>\n",
       "    <tr>\n",
       "      <th>8</th>\n",
       "      <td>RESERVISTE - Data analyst</td>\n",
       "      <td>Marine Nationale</td>\n",
       "      <td>Brest</td>\n",
       "      <td>il y a 25 jours</td>\n",
       "      <td>N.A.</td>\n",
       "    </tr>\n",
       "    <tr>\n",
       "      <th>9</th>\n",
       "      <td>IMEO Methane Data Scientist</td>\n",
       "      <td>United Nations</td>\n",
       "      <td>Paris (75)</td>\n",
       "      <td>il y a 26 jours</td>\n",
       "      <td>N.A.</td>\n",
       "    </tr>\n",
       "    <tr>\n",
       "      <th>10</th>\n",
       "      <td>Data Scientist (H/F)</td>\n",
       "      <td>DCS EASYWARE</td>\n",
       "      <td>Paris (75)</td>\n",
       "      <td>il y a 5 jours</td>\n",
       "      <td>N.A.</td>\n",
       "    </tr>\n",
       "    <tr>\n",
       "      <th>11</th>\n",
       "      <td>DATA SCIENTIST H/F</td>\n",
       "      <td>Orange Business</td>\n",
       "      <td>Paris (75)</td>\n",
       "      <td>il y a 12 jours</td>\n",
       "      <td>N.A.</td>\n",
       "    </tr>\n",
       "    <tr>\n",
       "      <th>12</th>\n",
       "      <td>DATA SCIENTIST H/F</td>\n",
       "      <td>Orange</td>\n",
       "      <td>Paris (75)</td>\n",
       "      <td>il y a plus de 30 jours</td>\n",
       "      <td>N.A.</td>\n",
       "    </tr>\n",
       "    <tr>\n",
       "      <th>13</th>\n",
       "      <td>Apprenti Data Scientist Maintenance Prédictive...</td>\n",
       "      <td>RATP</td>\n",
       "      <td>Paris</td>\n",
       "      <td>il y a 5 jours</td>\n",
       "      <td>N.A.</td>\n",
       "    </tr>\n",
       "    <tr>\n",
       "      <th>14</th>\n",
       "      <td>Data Scientist (H/F)</td>\n",
       "      <td>DCS GROUP</td>\n",
       "      <td>Paris (75)</td>\n",
       "      <td>il y a 3 jours</td>\n",
       "      <td>N.A.</td>\n",
       "    </tr>\n",
       "  </tbody>\n",
       "</table>\n",
       "</div>"
      ],
      "text/plain": [
       "                                             job name  ... contact\n",
       "0                                  Data Scientist F/H  ...    N.A.\n",
       "1       Alternance – Data scientist (H/F) – Metz (57)  ...    N.A.\n",
       "2   Analyste Audit IT & Data | PwC Montpellier | C...  ...    N.A.\n",
       "3                            Data Scientist (F-H) H/F  ...    N.A.\n",
       "4                                  Data Scientist H/F  ...    N.A.\n",
       "5                   Data Scientist - Machine Learning  ...    N.A.\n",
       "6       Alternance Data analyst H/F - Sarcelles (F/H)  ...    N.A.\n",
       "7                                        Data Analyst  ...    N.A.\n",
       "8                           RESERVISTE - Data analyst  ...    N.A.\n",
       "9                         IMEO Methane Data Scientist  ...    N.A.\n",
       "10                               Data Scientist (H/F)  ...    N.A.\n",
       "11                                 DATA SCIENTIST H/F  ...    N.A.\n",
       "12                                 DATA SCIENTIST H/F  ...    N.A.\n",
       "13  Apprenti Data Scientist Maintenance Prédictive...  ...    N.A.\n",
       "14                               Data Scientist (H/F)  ...    N.A.\n",
       "\n",
       "[15 rows x 5 columns]"
      ]
     },
     "execution_count": 19,
     "metadata": {},
     "output_type": "execute_result"
    }
   ],
   "source": [
    "%time\n",
    "url = \"https://fr.indeed.com/q-data-scientist-emplois.html?vjk=329a7f78a3224b9a\"\n",
    "job_df_instance = JobDataFrameCreator()\n",
    "job_df_instance.create_table_with_job(url, platform = \"Indeed\")"
   ]
  },
  {
   "cell_type": "code",
   "execution_count": null,
   "id": "b569205a",
   "metadata": {},
   "outputs": [],
   "source": []
  }
 ],
 "metadata": {
  "kernelspec": {
   "display_name": "ai-leads-dev",
   "language": "python",
   "name": "ai-leads-dev"
  },
  "language_info": {
   "codemirror_mode": {
    "name": "ipython",
    "version": 3
   },
   "file_extension": ".py",
   "mimetype": "text/x-python",
   "name": "python",
   "nbconvert_exporter": "python",
   "pygments_lexer": "ipython3",
   "version": "3.11.3"
  }
 },
 "nbformat": 4,
 "nbformat_minor": 5
}
